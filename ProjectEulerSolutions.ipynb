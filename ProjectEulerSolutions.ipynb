{
  "cells": [
    {
      "cell_type": "markdown",
      "id": "5f630cbd",
      "metadata": {
        "id": "5f630cbd"
      },
      "source": [
        "# CSIT301: Journal Submission\n",
        "\n",
        "### This notebook contains solutions, notes and analysis pertaining to the [HackerRank Project Euler+ challenge](https://www.hackerrank.com/contests/projecteuler/challenges) .\n",
        "\n",
        "The journal should contain **dated** notes regarding each problem that you successfully solve in the challenge along with the Python code. You should preferably include multiple solutions (i.e. the initial naive/inefficient solutions along with the final efficient solutions) along with explanations and analysis of their performance. A sample journal entry has been included below.\n"
      ]
    },
    {
      "cell_type": "markdown",
      "id": "457b4ac1",
      "metadata": {
        "id": "457b4ac1"
      },
      "source": [
        "## Sample Problem\n",
        "\n",
        "Write a function that takes in a positive integer n as an argument and returns the following output:\n",
        "$1*n + 2*(n-1)+ \\ldots (n-1)*2 + n*1$. You can assume that $10 \\leq n \\leq 10^{12}$.\n",
        "\n",
        "## Journal entry: Solved on 19-Dec-2022\n",
        "\n",
        "I came up with 3 different solutions, for which I use the function names \"broke\", \"woke\" and \"bespoke\" respectively.\n",
        "\n",
        "The first solution - \"broke\" - creates 2 lists x and y one of which contains $[1,2,\\ldots n-1,n]$ and the other containing the same integers in reverse order. The function then loops through both lists and adds the product to a counter and then returns the result. The solution has space and time complexity of $O(n)$ and results in memory errors for very large values of n.\n",
        "\n",
        "\n",
        "The second solution - \"woke\" - loops through the range 1 to n and adds the value of $i*(n-i+1)$ to the counter. This has space complexity of $O(1)$ and time complexity of $O(n)$.\n",
        "\n",
        "\n",
        "The third solution - \"bespoke\" - acknowledges that $\\sum_{i=1}^{n}(i*(n-i+1)) = \\frac{n*(n+1)^2}{2}-\\frac{n*(n+1)*(2*n+1)}{6} $. This identity allows us to solve the problem with space and time complexity of $O(1)$."
      ]
    },
    {
      "cell_type": "code",
      "execution_count": null,
      "id": "e0ebd4d4",
      "metadata": {
        "id": "e0ebd4d4",
        "colab": {
          "base_uri": "https://localhost:8080/"
        },
        "outputId": "09627279-7b42-48dd-d7fa-71eff2a51c3e"
      },
      "outputs": [
        {
          "output_type": "stream",
          "name": "stdout",
          "text": [
            "220\n",
            "166666671666666700000000\n",
            "CPU times: user 24.5 s, sys: 5.1 s, total: 29.6 s\n",
            "Wall time: 29.9 s\n"
          ]
        }
      ],
      "source": [
        "%%time\n",
        "\n",
        "def broke(n):\n",
        "    x=[i for i in range(1,n+1)]\n",
        "    y=x[::-1]\n",
        "    s=0\n",
        "    for i in range(len(x)):\n",
        "        s+=x[i]*y[i]\n",
        "    return s\n",
        "print(broke(10))\n",
        "print(broke(10**8))\n"
      ]
    },
    {
      "cell_type": "code",
      "execution_count": null,
      "id": "163a37d3",
      "metadata": {
        "id": "163a37d3",
        "colab": {
          "base_uri": "https://localhost:8080/"
        },
        "outputId": "5eccbc8c-d180-4cd0-8aba-9393ad78e319"
      },
      "outputs": [
        {
          "output_type": "stream",
          "name": "stdout",
          "text": [
            "220\n",
            "166666671666666700000000\n",
            "CPU times: user 19.6 s, sys: 25.8 ms, total: 19.6 s\n",
            "Wall time: 19.7 s\n"
          ]
        }
      ],
      "source": [
        "%%time\n",
        "\n",
        "def woke(n):\n",
        "    s=0\n",
        "    for i in range(1,n+1):\n",
        "       s+=i*(n-i+1)\n",
        "    return s\n",
        "print(woke(10))\n",
        "print(woke(10**8))\n"
      ]
    },
    {
      "cell_type": "markdown",
      "source": [
        "# Date: 21/12/2022\n",
        "### Project Euler #1: Multiples of 3 and 5\n",
        "\n",
        "---\n",
        "\n",
        "The first solution was the obvious and naive solution to iterate through all the natural numbers between 1 and n, and only add it to the local sum variable if the number is either a mutliple of 3 or 5.\n",
        "\n",
        "The above solution led to a timeout error for cases 2 and 3, because iterating through the entire loop will cause the complexity to be O(n).\n",
        "\n",
        "---\n",
        "\n",
        "The second solution is a list comprehension which saves all the multiples of 3 and 5 in a list and then sums the entire list which gives the result. This is significantly faster than the above solution. However, for bigger n the list that is being formed becomes too big leading to a memory overflow error.\n",
        "\n",
        "---\n",
        "\n",
        "The third solution has a complexity of O(1). This takes advantage of the fact that multiples of 3 and 5 are an arithematic progression from 0 to the last multiple before (n-1). However, the summation of both APs must be a union, therefore you subtract the intersection which is the AP with the difference of (3*5).\n",
        "\n",
        "Due to floating point arithematic, division of extremely large numbers lead to incorrect result. Therefore, we used a bitwise right shift operator to divide by 2.\n",
        "\n",
        "---"
      ],
      "metadata": {
        "id": "koGyu-9qp1-c"
      },
      "id": "koGyu-9qp1-c"
    },
    {
      "cell_type": "code",
      "execution_count": null,
      "id": "45cb4e00",
      "metadata": {
        "id": "45cb4e00",
        "colab": {
          "base_uri": "https://localhost:8080/"
        },
        "outputId": "be5ca927-548c-4785-edb9-e38dd0fc4911"
      },
      "outputs": [
        {
          "output_type": "stream",
          "name": "stdout",
          "text": [
            "35\n",
            "166666671666666700000000\n",
            "CPU times: user 1.89 ms, sys: 0 ns, total: 1.89 ms\n",
            "Wall time: 1.95 ms\n"
          ]
        }
      ],
      "source": [
        "%%time\n",
        "\n",
        "def bespoke(n):\n",
        "    return n*(n+1)*(n+1)//2 - n*(n+1)*(2*n+1)//6\n",
        "\n",
        "print(bespoke(5))\n",
        "print(bespoke(10**8))\n"
      ]
    },
    {
      "cell_type": "code",
      "source": [
        "%%time\n",
        "\n",
        "def p1(n):\n",
        "    Sum = 0\n",
        "    for i in range(1, n):\n",
        "        if i % 3 == 0 or i % 5 == 0:\n",
        "           Sum += i\n",
        "    return Sum\n",
        "\n",
        "print(p1(10**9))\n"
      ],
      "metadata": {
        "id": "--S0a1X4ti_M",
        "colab": {
          "base_uri": "https://localhost:8080/"
        },
        "outputId": "4e36b547-6992-400e-813e-3cbc31b66a1e"
      },
      "id": "--S0a1X4ti_M",
      "execution_count": null,
      "outputs": [
        {
          "output_type": "stream",
          "name": "stdout",
          "text": [
            "233333333166666668\n",
            "CPU times: user 2min 34s, sys: 273 ms, total: 2min 35s\n",
            "Wall time: 2min 35s\n"
          ]
        }
      ]
    },
    {
      "cell_type": "code",
      "source": [
        "%%time\n",
        "\n",
        "def p1a(n):\n",
        "    Sum = [x for x in range(1, n) if x % 3 == 0 or x % 5 == 0]\n",
        "    return sum(Sum)\n",
        "\n",
        "print(p1a(10**7))\n"
      ],
      "metadata": {
        "id": "CfXs-YzEtlxZ",
        "colab": {
          "base_uri": "https://localhost:8080/"
        },
        "outputId": "64d832a0-d9ed-4b6e-a8ff-ab2b2c3bbe35"
      },
      "id": "CfXs-YzEtlxZ",
      "execution_count": null,
      "outputs": [
        {
          "output_type": "stream",
          "name": "stdout",
          "text": [
            "23333331666668\n",
            "CPU times: user 1.51 s, sys: 262 ms, total: 1.78 s\n",
            "Wall time: 1.79 s\n"
          ]
        }
      ]
    },
    {
      "cell_type": "code",
      "source": [
        "%%time\n",
        "\n",
        "def p1b(n):\n",
        "# because N not inclusive (this was why it broke at the start)\n",
        "    n -= 1\n",
        "\n",
        "    x = (((n//3)*((n//3) + 1)*3)) >> 1\n",
        "    y = (((n//5)*((n//5) + 1)*5)) >> 1\n",
        "    z = (((n//15)*((n//15) + 1)*15)) >> 1\n",
        "\n",
        "    return x + y - z\n",
        "\n",
        "print(p1b(10**9))"
      ],
      "metadata": {
        "id": "JcZAOcWbtpUa",
        "colab": {
          "base_uri": "https://localhost:8080/"
        },
        "outputId": "0fbe79ed-3f3b-4fd7-b01c-5ba78099aa34"
      },
      "id": "JcZAOcWbtpUa",
      "execution_count": null,
      "outputs": [
        {
          "output_type": "stream",
          "name": "stdout",
          "text": [
            "233333333166666668\n",
            "CPU times: user 1.41 ms, sys: 0 ns, total: 1.41 ms\n",
            "Wall time: 1.42 ms\n"
          ]
        }
      ]
    },
    {
      "cell_type": "markdown",
      "source": [
        "# Date: 21/12/2022\n",
        "### Project Euler #2: Even Fibonacci Numbers\n",
        "\n",
        "---\n",
        "\n",
        "It worked in first try, it is not very efficient,,, it handles the formation of the fibonacci sequence using iteration instead of recursion -> to optimise for memory. Moreover, the finding of the sum is also just iterating through the series and using a conditional"
      ],
      "metadata": {
        "id": "k5XHc4qdt9zi"
      },
      "id": "k5XHc4qdt9zi"
    },
    {
      "cell_type": "code",
      "source": [
        "%%time\n",
        "\n",
        "def p2(n):\n",
        "    if (n == 1):\n",
        "        return 0\n",
        "    if (n == 2):\n",
        "        return 2\n",
        "\n",
        "    i = 2\n",
        "    fibo = [1, 2]\n",
        "    while True:\n",
        "        new_fibo = fibo[i-1] + fibo[i-2]\n",
        "        if new_fibo > n:\n",
        "            break\n",
        "        fibo.append(new_fibo)\n",
        "        i += 1\n",
        "\n",
        "    Sum = 0\n",
        "    for el in fibo:\n",
        "        if el % 2 == 0:\n",
        "            Sum += el\n",
        "\n",
        "    return Sum\n",
        "\n",
        "print(p2(4*(10**16)))"
      ],
      "metadata": {
        "id": "RmGvQ5oYyghK",
        "colab": {
          "base_uri": "https://localhost:8080/"
        },
        "outputId": "2c346339-d189-4b97-cf41-6f5095b45145"
      },
      "id": "RmGvQ5oYyghK",
      "execution_count": null,
      "outputs": [
        {
          "output_type": "stream",
          "name": "stdout",
          "text": [
            "49597426547377748\n",
            "CPU times: user 744 µs, sys: 0 ns, total: 744 µs\n",
            "Wall time: 652 µs\n"
          ]
        }
      ]
    },
    {
      "cell_type": "markdown",
      "source": [
        "# Date: 22/12/2022\n",
        "### Project Euler #3: Largest Prime Factor\n",
        "\n",
        "---\n",
        "\n",
        "The first thought was to go through all the numbers less than n and check if they are prime, if theyare prime - check if they are a factor of n; as soon as both those conditions are met, that is the answer. This is a very inefficent solution, especially in cases where the largest prime factor is a very small number like 2.\n",
        "\n",
        "---\n",
        "\n",
        "The next way was to figure out how I would find all the prime factors as a human. The way I thought of it was repeated division using only prime numbers. If I started dividing n from the lowest prinme number [2], until I can't divide anymore, I would just move onto the next number. The next number that is a factor will always be a prime because the repeated division of n will lead to that. Moreover, another optimisation is that factor will never be more than square root of n; so if I hit that number, the largest prime factor is n.\n",
        "\n",
        "\n"
      ],
      "metadata": {
        "id": "rhTkWcrc9hAO"
      },
      "id": "rhTkWcrc9hAO"
    },
    {
      "cell_type": "code",
      "source": [
        "%%time\n",
        "\n",
        "import math\n",
        "\n",
        "def p3(n):\n",
        "    i = n\n",
        "    while i >= 2:\n",
        "        isPrime = True\n",
        "        for j in range(2, int(math.sqrt(i)) + 1):\n",
        "            if i % j == 0:\n",
        "                isPrime = False\n",
        "                break\n",
        "        if isPrime:\n",
        "            if n % i == 0:\n",
        "                return i\n",
        "        i -= 1\n",
        "\n",
        "print((p3(10**7)))"
      ],
      "metadata": {
        "colab": {
          "base_uri": "https://localhost:8080/"
        },
        "id": "fekhyOsfA_oy",
        "outputId": "aa0e93fe-7f6d-4a30-a2c6-d009275d45a8"
      },
      "id": "fekhyOsfA_oy",
      "execution_count": null,
      "outputs": [
        {
          "output_type": "stream",
          "name": "stdout",
          "text": [
            "5\n",
            "CPU times: user 2min 35s, sys: 372 ms, total: 2min 36s\n",
            "Wall time: 2min 38s\n"
          ]
        }
      ]
    },
    {
      "cell_type": "code",
      "source": [
        "%%time\n",
        "\n",
        "def p3a(n):\n",
        "    i = 2\n",
        "#while i is less than sqrt(n)\n",
        "    while i * i <= n:\n",
        "        if n % i == 0:\n",
        "            n //= i\n",
        "        else:\n",
        "            i += 1\n",
        "    return n\n",
        "\n",
        "print(p3a(10**12))"
      ],
      "metadata": {
        "colab": {
          "base_uri": "https://localhost:8080/"
        },
        "id": "hUN51DsGBDba",
        "outputId": "cad360ca-c89c-44bc-a4cd-aeb991ae3424"
      },
      "id": "hUN51DsGBDba",
      "execution_count": null,
      "outputs": [
        {
          "output_type": "stream",
          "name": "stdout",
          "text": [
            "5\n",
            "CPU times: user 1.6 ms, sys: 0 ns, total: 1.6 ms\n",
            "Wall time: 3.88 ms\n"
          ]
        }
      ]
    },
    {
      "cell_type": "markdown",
      "source": [
        "# Date: 23/12/2022\n",
        "### Project Euler #4: Largest Palindrome Product\n",
        "\n",
        "---\n",
        "\n",
        "This surprisingly require only a couple of optimisations, probably because was already thinking in terms of list comprehensions and index slicing because of the python puzzles we did in class today.\n",
        "The first optimisation was turning all the palindromic products list (of all the 3 digit numbers) into a set; the second one is more of an optimisation based on the specific hackerrank input style - this entailed making the set a global variable calculated once instead of for every function call like I did the first time around.\n"
      ],
      "metadata": {
        "id": "GFogoUc9Bf4m"
      },
      "id": "GFogoUc9Bf4m"
    },
    {
      "cell_type": "code",
      "source": [
        "%%time\n",
        "\n",
        "def p4(n):\n",
        "    palProducts = [i*j for i in range(100, 1000) for j in range(100, 1000) if str(i*j) == str(i*j)[::-1]]\n",
        "    return max([x for x in palProducts if x < n])\n",
        "\n",
        "print(p4(10**6))"
      ],
      "metadata": {
        "colab": {
          "base_uri": "https://localhost:8080/"
        },
        "id": "LrSPaEXKCsYC",
        "outputId": "a315635a-d1eb-4acb-dab6-8c8a837ef58e"
      },
      "id": "LrSPaEXKCsYC",
      "execution_count": null,
      "outputs": [
        {
          "output_type": "stream",
          "name": "stdout",
          "text": [
            "906609\n",
            "CPU times: user 515 ms, sys: 7 ms, total: 522 ms\n",
            "Wall time: 525 ms\n"
          ]
        }
      ]
    },
    {
      "cell_type": "code",
      "source": [
        "%%time\n",
        "\n",
        "palProducts = set(i*j for i in range(100, 1000) for j in range(100, 1000) if str(i*j) == str(i*j)[::-1])\n",
        "def p4a(n):\n",
        "    return max([x for x in palProducts if x < n])\n",
        "\n",
        "print(p4(10**6))"
      ],
      "metadata": {
        "colab": {
          "base_uri": "https://localhost:8080/"
        },
        "id": "AzrVz_jxDHoX",
        "outputId": "a1f98757-3faf-4b1f-f675-6c00ce87a84a"
      },
      "id": "AzrVz_jxDHoX",
      "execution_count": null,
      "outputs": [
        {
          "output_type": "stream",
          "name": "stdout",
          "text": [
            "906609\n",
            "CPU times: user 1.03 s, sys: 5.96 ms, total: 1.03 s\n",
            "Wall time: 1.04 s\n"
          ]
        }
      ]
    },
    {
      "cell_type": "markdown",
      "source": [
        "# Date: 23/12/2022\n",
        "### Project Euler #5: Smallest Multiple\n",
        "\n",
        "---\n",
        "\n",
        "Okay, it worked in the first try. Not very efficient at all, or at least I did not apply any optimisations, but yay! it worked."
      ],
      "metadata": {
        "id": "N3O8kIufIs_M"
      },
      "id": "N3O8kIufIs_M"
    },
    {
      "cell_type": "code",
      "source": [
        "%%time\n",
        "\n",
        "def p5(n):\n",
        "    if n == 1:\n",
        "        return n\n",
        "\n",
        "    multiples = [2]\n",
        "    for i in range(2, n + 1):\n",
        "        for j in multiples:\n",
        "            if i % j == 0:\n",
        "                i //= j\n",
        "        multiples.append(i)\n",
        "\n",
        "    prod = 1\n",
        "    for i in multiples:\n",
        "        prod *= i\n",
        "    return prod\n",
        "\n",
        "print(p5(40))"
      ],
      "metadata": {
        "colab": {
          "base_uri": "https://localhost:8080/"
        },
        "id": "mlWGoakzLbiw",
        "outputId": "474fd825-940a-4e19-803f-450a2750578f"
      },
      "id": "mlWGoakzLbiw",
      "execution_count": null,
      "outputs": [
        {
          "output_type": "stream",
          "name": "stdout",
          "text": [
            "5342931457063200\n",
            "CPU times: user 582 µs, sys: 546 µs, total: 1.13 ms\n",
            "Wall time: 1.19 ms\n"
          ]
        }
      ]
    },
    {
      "cell_type": "markdown",
      "source": [
        "#Date: 23/12/2022\n",
        "### Project Euler #6: Sum Square Difference\n",
        "\n",
        "---\n",
        "\n",
        "Wow, two in a row for first tries; to be fair, it did take me multiple attempts to get my maths right but still another one liner. Basically just returned ($\\sum_{i=1}^{n} i )^2 - \\sum_{i=1}^{n} i^2 = \\frac{n(n+1)(n-1)(3n+2)}{12}$"
      ],
      "metadata": {
        "id": "pEZQzD95QHXy"
      },
      "id": "pEZQzD95QHXy"
    },
    {
      "cell_type": "code",
      "source": [
        "%%time\n",
        "\n",
        "def p6(n):\n",
        "    return (n * (3*n + 2) * (n - 1) * (n + 1)) // 12\n",
        "\n",
        "print(p6(10**4))"
      ],
      "metadata": {
        "colab": {
          "base_uri": "https://localhost:8080/"
        },
        "id": "Fuj40WgiRKwA",
        "outputId": "37cb476b-2258-40b0-98e3-8c2eae1391ee"
      },
      "id": "Fuj40WgiRKwA",
      "execution_count": null,
      "outputs": [
        {
          "output_type": "stream",
          "name": "stdout",
          "text": [
            "2500166641665000\n",
            "CPU times: user 107 µs, sys: 1 µs, total: 108 µs\n",
            "Wall time: 113 µs\n"
          ]
        }
      ]
    },
    {
      "cell_type": "markdown",
      "source": [
        "# Date: 23/12/2022\n",
        "### Project Euler #7: 1001st Prime\n",
        "---\n",
        "\n",
        "Okay, worked again in first try. Maybe I am just getting better at optimising, or maybe the constraints are getting lenient. I didn't use the sieve of erastonthenes to generate an array of prime because the constraints given wouldn't yield much of a execution time difference anyway. Moreover, I even started out by making the array of the first n primes global from the start."
      ],
      "metadata": {
        "id": "zR_GsjDQbFik"
      },
      "id": "zR_GsjDQbFik"
    },
    {
      "cell_type": "code",
      "source": [
        "%%time\n",
        "\n",
        "def isPrime(n):\n",
        "    prime = True\n",
        "    if n == 1:\n",
        "        prime = False\n",
        "        return prime\n",
        "    i = 2\n",
        "    while i * i <= n:\n",
        "        if n % i == 0:\n",
        "            prime = False\n",
        "            return prime\n",
        "        i = i + 1\n",
        "    return prime\n",
        "\n",
        "def Primes(n):\n",
        "    i = 1\n",
        "    j = 2\n",
        "    arr = []\n",
        "    while i <= n:\n",
        "        if isPrime(j):\n",
        "            arr.append(j)\n",
        "            i += 1\n",
        "        j += 1\n",
        "    return arr\n",
        "\n",
        "primes = Primes(10**4)\n",
        "\n",
        "def p7(n):\n",
        "    return primes[n-1]\n",
        "\n",
        "print(p7(10**4))"
      ],
      "metadata": {
        "colab": {
          "base_uri": "https://localhost:8080/"
        },
        "id": "GJcgl-KAbxjM",
        "outputId": "4e53f442-c5a1-46dd-9bff-3a679fa48d53"
      },
      "id": "GJcgl-KAbxjM",
      "execution_count": null,
      "outputs": [
        {
          "output_type": "stream",
          "name": "stdout",
          "text": [
            "104729\n",
            "CPU times: user 1.17 s, sys: 15 ms, total: 1.19 s\n",
            "Wall time: 1.24 s\n"
          ]
        }
      ]
    },
    {
      "cell_type": "markdown",
      "source": [
        "# Date: 24/12/2022\n",
        "### Project Euler #8: Largest Product in a Series\n",
        "---\n",
        "\n",
        "I shouldn't write journals late in the night, beacuse I swear to god these problems are getting easier (I am going to eat my words later). It required no optimisations whatsoever. Just did it the most straightforward way by using index slicing."
      ],
      "metadata": {
        "id": "x9hdE8fwecGs"
      },
      "id": "x9hdE8fwecGs"
    },
    {
      "cell_type": "code",
      "source": [
        "%%time\n",
        "\n",
        "def p8(n, k, num):\n",
        "    num = str(num)\n",
        "    prods = []\n",
        "    for i in range(n - k):\n",
        "        cons = num[i:i+k]\n",
        "        prod = 1\n",
        "        for j in cons:\n",
        "            prod *= int(j)\n",
        "        prods.append(prod)\n",
        "    return max(prods)\n",
        "\n",
        "print(p8(20, 5, 36753562912709360626))"
      ],
      "metadata": {
        "colab": {
          "base_uri": "https://localhost:8080/"
        },
        "id": "0oPdvrCRe4RR",
        "outputId": "2441c117-00bf-4aa7-a103-55cadded9743"
      },
      "id": "0oPdvrCRe4RR",
      "execution_count": null,
      "outputs": [
        {
          "output_type": "stream",
          "name": "stdout",
          "text": [
            "3150\n",
            "CPU times: user 1.54 ms, sys: 0 ns, total: 1.54 ms\n",
            "Wall time: 1.65 ms\n"
          ]
        }
      ]
    },
    {
      "cell_type": "markdown",
      "source": [
        "# Date: 25/12/2022\n",
        "### Project Euler #10: Summation of Primes\n",
        "\n",
        "---\n",
        "\n",
        "This required multiple iterations, the first one found prime using the normal iterative method, but that took way too long for any test case. This assumed that finding primes upto 10**6 wouldn't take too long. Moreover, my summation loop in the function was also too slow (this I end up noticing in the next method.\n",
        "\n",
        "---\n",
        "\n",
        "The next method finds primes until n (instead of finding all primnes as a global array (based on constraints)) and then uses the built-in sum method which is significantly faster, because the built-in functions are written in C. This let it work for all test cases exceot a couple which timed itself out.\n",
        "\n",
        "---\n",
        "\n",
        "The next iteration is marginally faster, keeping all the primes in the heap and iteratively summing up; this lead to one other test case being fulfilled.\n",
        "\n",
        "---\n",
        "\n",
        "I was hesistant to create a list of sums till a prime, because the indexinig would go all haywire. It would have been so much easier to just repeat the previous number till you hit the correct prime index. I am so annoyed.\n",
        "This iteration uses all the previous optimisations.\n",
        "\n"
      ],
      "metadata": {
        "id": "c-_ucd40LEKk"
      },
      "id": "c-_ucd40LEKk"
    },
    {
      "cell_type": "code",
      "source": [
        "%%time\n",
        "\n",
        "def isPrime(n):\n",
        "    prime = True\n",
        "    if n == 1:\n",
        "        prime = False\n",
        "        return prime\n",
        "    i = 2\n",
        "    while i * i <= n:\n",
        "        if n % i == 0:\n",
        "            prime = False\n",
        "            return prime\n",
        "        i = i + 1\n",
        "    return prime\n",
        "\n",
        "def Primes(n):\n",
        "    i = 1\n",
        "    j = 2\n",
        "    arr = []\n",
        "    while i <= n:\n",
        "        if isPrime(j):\n",
        "            arr.append(j)\n",
        "            i += 1\n",
        "        j += 1\n",
        "    return arr\n",
        "\n",
        "primes = Primes(10**6)\n",
        "\n",
        "def p10(n):\n",
        "    Sum = 0\n",
        "    i = 0\n",
        "    while primes[i] <= n:\n",
        "        Sum += primes[i]\n",
        "\n",
        "    return Sum\n"
      ],
      "metadata": {
        "id": "-YbLvsNgMDao"
      },
      "id": "-YbLvsNgMDao",
      "execution_count": null,
      "outputs": []
    },
    {
      "cell_type": "code",
      "source": [
        "%%time\n",
        "\n",
        "def Prime(n):\n",
        "      sieve = [True] * (n + 1)\n",
        "      primes = []\n",
        "      for i in range(2, n + 1):\n",
        "         if sieve[i]:\n",
        "            primes.append(i)\n",
        "            for j in range(i, n + 1, i):\n",
        "               sieve[j] = False\n",
        "      return primes\n",
        "\n",
        "def p10a(n):\n",
        "    primes = Prime(n)\n",
        "    return sum(primes)"
      ],
      "metadata": {
        "id": "Yh8GwY3lMeir"
      },
      "id": "Yh8GwY3lMeir",
      "execution_count": null,
      "outputs": []
    },
    {
      "cell_type": "code",
      "source": [
        "%%time\n",
        "\n",
        "def Prime(n):\n",
        "      sieve = [True] * (n + 1)\n",
        "      primes = []\n",
        "      for i in range(2, n + 1):\n",
        "         if sieve[i]:\n",
        "            primes.append(i)\n",
        "            for j in range(i, n + 1, i):\n",
        "               sieve[j] = False\n",
        "      return primes\n",
        "\n",
        "primes = Prime(10**6)\n",
        "\n",
        "def p10b(n):\n",
        "    i = 0\n",
        "    Sum = 0\n",
        "    while primes[i] <= n:\n",
        "        Sum += primes[i]\n",
        "        i += 1\n",
        "    return Sum\n"
      ],
      "metadata": {
        "id": "nHEeTOdLPS1O"
      },
      "id": "nHEeTOdLPS1O",
      "execution_count": null,
      "outputs": []
    },
    {
      "cell_type": "code",
      "source": [
        "def SumsPrime(n):\n",
        "    sieve = [True] * (n + 1)\n",
        "    Sums = [0] * (n+1)\n",
        "    for i in range(2, n + 1):\n",
        "        if sieve[i]:\n",
        "            Sums[i] = Sums[i-1] + i\n",
        "            for j in range(i, n + 1, i):\n",
        "                sieve[j] = False\n",
        "        else:\n",
        "            Sums[i] = Sums[i-1]\n",
        "    return Sums\n",
        "\n",
        "SumsTillN = SumsPrime(10**6)\n",
        "\n",
        "def p10c(n):\n",
        "    print(SumsTillN[n])\n"
      ],
      "metadata": {
        "id": "UuOqveWSsvVE"
      },
      "id": "UuOqveWSsvVE",
      "execution_count": null,
      "outputs": []
    },
    {
      "cell_type": "markdown",
      "source": [
        "# Date: 25/12/2022\n",
        "### Project Euler #11: Largest Product in a Grid\n",
        "\n",
        "---\n",
        "\n",
        "This was relatively straightforward. Just iterated through the grid using a 'for loop' and used the size of the grid as constraints to calculate the vertical, horizontal and diagonal products. However, this led to two test cases failing when I submitted it.\n",
        "\n",
        "---\n",
        "\n",
        "The two test cases failed because I fogot to take diagonal left into account, only calculated products of diagonal right in the previous code."
      ],
      "metadata": {
        "id": "iGlOsweJ6t-R"
      },
      "id": "iGlOsweJ6t-R"
    },
    {
      "cell_type": "code",
      "source": [
        "%%time\n",
        "\n",
        "def p11(grid):\n",
        "    prods = []\n",
        "    for i in range(20):\n",
        "        for j in range(20):\n",
        "            if i < 17:\n",
        "                prod = 1\n",
        "                for ii in range(i, i+4):\n",
        "                    prod *= grid[ii][j]\n",
        "                prods.append(prod)\n",
        "            if j < 17:\n",
        "                prod = 1\n",
        "                for jj in range(j, j+4):\n",
        "                    prod *= grid[i][jj]\n",
        "                prods.append(prod)\n",
        "            if i < 17 and j < 17:\n",
        "                prod = 1\n",
        "                jj = j\n",
        "                for ii in range(i, i+4):\n",
        "                    prod *= grid[ii][jj]\n",
        "                    jj += 1\n",
        "                prods.append(prod)\n",
        "\n",
        "    return max(prods)"
      ],
      "metadata": {
        "id": "PGLMykpD7l9d"
      },
      "id": "PGLMykpD7l9d",
      "execution_count": null,
      "outputs": []
    },
    {
      "cell_type": "code",
      "source": [
        "%%time\n",
        "\n",
        "def p11a(grid):\n",
        "    prods = []\n",
        "    for i in range(20):\n",
        "        for j in range(20):\n",
        "            if i < 17:\n",
        "                prod = 1\n",
        "                for ii in range(i, i+4):\n",
        "                    prod *= grid[ii][j]\n",
        "                prods.append(prod)\n",
        "            if j < 17:\n",
        "                prod = 1\n",
        "                for jj in range(j, j+4):\n",
        "                    prod *= grid[i][jj]\n",
        "                prods.append(prod)\n",
        "            if i < 17 and j < 17:\n",
        "                prod = 1\n",
        "                jj = j\n",
        "                for ii in range(i, i+4):\n",
        "                    prod *= grid[ii][jj]\n",
        "                    jj += 1\n",
        "                prods.append(prod)\n",
        "            if i > 2 and j < 17:\n",
        "                prod = 1\n",
        "                jj = j\n",
        "                for ii in range(i, i-4, -1):\n",
        "                    prod *= grid[ii][jj]\n",
        "                    jj += 1\n",
        "                prods.append(prod)\n",
        "\n",
        "    return max(prods)"
      ],
      "metadata": {
        "id": "KX-duduj7mEk"
      },
      "id": "KX-duduj7mEk",
      "execution_count": null,
      "outputs": []
    },
    {
      "cell_type": "markdown",
      "source": [
        "# Date: 25/12/2022\n",
        "### Project Euler #12: Highly Divisible Triangular Number\n",
        "\n",
        "---\n",
        "\n",
        "The first attempt does not work in hackerrank because numpy was used. That is so annoying, I believe that numpy and pandas pretty much are native python at this point.\n",
        "\n",
        "_Correction:_ The numpy version is so much slower, I take it back. Importing numpy was not it,, could not run the input 10**3 in 7 minutes.\n",
        "\n",
        "---\n",
        "\n",
        "Nevertheless, the next attempt is the one that got accepted by hackerrank. In my opinion it is quite a bit slower than the previous version but it ran. Two test cases terminated due to time out error.\n",
        "\n",
        "---\n",
        "\n",
        "Recieving the same time-out error here. Refactored the prime factor code to only give counts. Moreover, built the entire trinagular sequence at the start in the heap to help with the test cases. These optimisations did not wokr well enough.\n",
        "\n",
        "---\n",
        "\n",
        "_will come back to this_\n",
        "\n",
        "#################\n",
        "\n",
        "CAME BACK TO THIS\n",
        "##Date: 14/1/2023\n",
        "\n",
        "1st iteration after coming back also timed out, didnt do a whole lot different from the previous attempts -> just cleaner and probably a little bit more optimised. Tried memoisation, but that does not seem to be the answer here.\n",
        "\n",
        "---\n",
        "\n",
        "Okay, triangular numbers = i*(i + 1)/2,,, i and i+1 are always co-prime because consecutive. Number of factors of product of co-primes are the product of the number of factors of the co-primes.\n",
        "Basically, there is no forming or traversing through an array.\n",
        "\n",
        "I would have cried if this did not work. But it did so yay!!!\n"
      ],
      "metadata": {
        "id": "9JXFAAkmKpXO"
      },
      "id": "9JXFAAkmKpXO"
    },
    {
      "cell_type": "code",
      "source": [
        "%%time\n",
        "\n",
        "import numpy as np\n",
        "\n",
        "\n",
        "def PrimeFactors(n):\n",
        "    factors = []\n",
        "    i = 2\n",
        "#while i is less than sqrt(n)\n",
        "    while i * i <= n:\n",
        "        if n % i == 0:\n",
        "            n //= i\n",
        "            factors.append(i)\n",
        "        else:\n",
        "            i += 1\n",
        "    factors.append(n)\n",
        "    return np.array(factors)\n",
        "\n",
        "def p12(n):\n",
        "    numDivisors = 1\n",
        "    prev_num = 1\n",
        "    i = 2\n",
        "    while numDivisors <= n:\n",
        "        num = prev_num + i\n",
        "\n",
        "        prev_num = num\n",
        "        i += 1\n",
        "\n",
        "        factors = PrimeFactors(num)\n",
        "\n",
        "        _, counts = np.unique(factors, return_counts=True)\n",
        "        counts += 1\n",
        "        numDivisors = sum(counts)\n",
        "\n",
        "    return num\n",
        "\n",
        "print(p12(10**3))\n"
      ],
      "metadata": {
        "colab": {
          "base_uri": "https://localhost:8080/",
          "height": 217
        },
        "id": "q_JUG97JBidW",
        "outputId": "1c43c7ac-aa9d-4b5d-dd4b-91085d6b4ffc"
      },
      "id": "q_JUG97JBidW",
      "execution_count": null,
      "outputs": [
        {
          "output_type": "error",
          "ename": "KeyboardInterrupt",
          "evalue": "ignored",
          "traceback": [
            "\u001b[0;31m---------------------------------------------------------------------------\u001b[0m",
            "\u001b[0;31mKeyboardInterrupt\u001b[0m                         Traceback (most recent call last)",
            "\u001b[0;32m<timed exec>\u001b[0m in \u001b[0;36m<module>\u001b[0;34m\u001b[0m\n",
            "\u001b[0;32m<timed exec>\u001b[0m in \u001b[0;36mp12\u001b[0;34m(n)\u001b[0m\n",
            "\u001b[0;32m<timed exec>\u001b[0m in \u001b[0;36mPrimeFactors\u001b[0;34m(n)\u001b[0m\n",
            "\u001b[0;31mKeyboardInterrupt\u001b[0m: "
          ]
        }
      ]
    },
    {
      "cell_type": "code",
      "source": [
        "%%time\n",
        "\n",
        "def PrimeFactors(n):\n",
        "    factors = []\n",
        "    i = 2\n",
        "    count = 0\n",
        "    counts = []\n",
        "#while i is less than sqrt(n)\n",
        "    while i * i <= n:\n",
        "        if n % i == 0:\n",
        "            n //= i\n",
        "            factors.append(i)\n",
        "            count += 1\n",
        "        else:\n",
        "            counts.append(count)\n",
        "            count = 0\n",
        "            i += 1\n",
        "\n",
        "    factors.append(n)\n",
        "\n",
        "    if n == i:\n",
        "        counts.append(count + 1)\n",
        "    else:\n",
        "        counts.append(count)\n",
        "        counts.append(1)\n",
        "\n",
        "    return factors, counts\n",
        "\n",
        "def p12a(n):\n",
        "    numDivisors = 1\n",
        "    prev_num = 1\n",
        "    i = 2\n",
        "    while numDivisors <= n:\n",
        "        numDivisors = 1\n",
        "        num = prev_num + i\n",
        "\n",
        "        prev_num = num\n",
        "        i += 1\n",
        "\n",
        "        _, counts = PrimeFactors(num)\n",
        "\n",
        "        for el in counts:\n",
        "            numDivisors *= (el + 1)\n",
        "\n",
        "    return num\n",
        "\n",
        "\n",
        "print(p12a(10**3))"
      ],
      "metadata": {
        "colab": {
          "base_uri": "https://localhost:8080/"
        },
        "id": "iAIXNA1qGg-w",
        "outputId": "022c3310-5e41-4108-8bf2-456a795d5a82"
      },
      "id": "iAIXNA1qGg-w",
      "execution_count": null,
      "outputs": [
        {
          "output_type": "stream",
          "name": "stdout",
          "text": [
            "842161320\n",
            "CPU times: user 8.76 s, sys: 31.8 ms, total: 8.79 s\n",
            "Wall time: 8.84 s\n"
          ]
        }
      ]
    },
    {
      "cell_type": "code",
      "source": [
        "%%time\n",
        "\n",
        "def TriNum(num):\n",
        "    nums = [1]\n",
        "    i = 0\n",
        "    j = 2\n",
        "    while nums[i] < num:\n",
        "        nums.append(nums[i] + j)\n",
        "        i += 1\n",
        "        j += 1\n",
        "    return nums\n",
        "\n",
        "#number found by using contraints and finding the result using a slower function\n",
        "TriNums = TriNum(10**10)\n",
        "\n",
        "\n",
        "def PrimeFactors(n):\n",
        "    if n == 1:\n",
        "        return [0]\n",
        "\n",
        "    i = 2\n",
        "    count = 0\n",
        "    counts = []\n",
        "#while i is less than sqrt(n)\n",
        "    while i * i <= n:\n",
        "        if n % i == 0:\n",
        "            n //= i\n",
        "            count += 1\n",
        "        else:\n",
        "            counts.append(count)\n",
        "            count = 0\n",
        "            i += 1\n",
        "\n",
        "    if n == i:\n",
        "        counts.append(count + 1)\n",
        "    else:\n",
        "        counts.append(count)\n",
        "        counts.append(1)\n",
        "\n",
        "    return counts\n",
        "\n",
        "\n",
        "def p12b(n):\n",
        "    for el in TriNums:\n",
        "        numDivisors = 1\n",
        "        counts = PrimeFactors(el)\n",
        "        for ele in counts:\n",
        "            numDivisors *= (ele + 1)\n",
        "        if numDivisors > n:\n",
        "            return el\n",
        "\n",
        "print(p12b(10**3))"
      ],
      "metadata": {
        "colab": {
          "base_uri": "https://localhost:8080/"
        },
        "id": "Ejx_cLitMKwF",
        "outputId": "ec028341-1376-478b-927f-1d9ff18b9cb0"
      },
      "id": "Ejx_cLitMKwF",
      "execution_count": null,
      "outputs": [
        {
          "output_type": "stream",
          "name": "stdout",
          "text": [
            "842161320\n",
            "CPU times: user 8.61 s, sys: 24.6 ms, total: 8.63 s\n",
            "Wall time: 8.67 s\n"
          ]
        }
      ]
    },
    {
      "cell_type": "code",
      "source": [
        "def num_divisors(n):\n",
        "    count = 0\n",
        "    for i in range(1, int(n**(0.5))+1):\n",
        "        if n % i == 0:\n",
        "            count += 1\n",
        "            if i != n // i:\n",
        "                count += 1\n",
        "    return count\n",
        "\n",
        "\n",
        "TriNum = [(0, 0)]\n",
        "\n",
        "i = 0\n",
        "while TriNum[i][1] <= 1000:\n",
        "    n = TriNum[i][0] + i + 1\n",
        "    TriNum.append((n, num_divisors(n)))\n",
        "\n",
        "    i += 1\n",
        "\n",
        "print(TriNum)\n",
        "\n",
        "def p12c(n):\n",
        "    i = 1\n",
        "    while TriNum[i][1] <= n:\n",
        "        i += 1\n",
        "\n",
        "    print(TriNum[i][0])"
      ],
      "metadata": {
        "id": "BZ-SQ7saUObq"
      },
      "id": "BZ-SQ7saUObq",
      "execution_count": null,
      "outputs": []
    },
    {
      "cell_type": "code",
      "source": [
        "def num_divisors(n):\n",
        "    count = 0\n",
        "    for i in range(1, int(n**(0.5))+1):\n",
        "        if n % i == 0:\n",
        "            count += 1\n",
        "            if i != n // i:\n",
        "                count += 1\n",
        "    return count\n",
        "\n",
        "\n",
        "def TriFact(i):\n",
        "    if i % 2:\n",
        "        return num_divisors( (i+1)//2 ) * num_divisors(i)\n",
        "    else:\n",
        "        return num_divisors(i//2) * num_divisors(i+1)\n",
        "\n",
        "def p12d(n):\n",
        "    i = 1\n",
        "    while TriFact(i) <= n:\n",
        "        i += 1\n",
        "\n",
        "    print(i*(i+1)//2)"
      ],
      "metadata": {
        "id": "AjGy_GQAUUs1"
      },
      "id": "AjGy_GQAUUs1",
      "execution_count": null,
      "outputs": []
    },
    {
      "cell_type": "markdown",
      "source": [
        "# Date: 26/12/2022\n",
        "### Project Euler #13: Large Sum\n",
        "\n",
        "---\n",
        "\n",
        "Hahahahaha! It just worked. I am pretty sure this was just python things.\n",
        "LMAAAOO\n",
        "\n",
        "Yeah nah, it is not optimised at all."
      ],
      "metadata": {
        "id": "Vv_JpjRZT6Eo"
      },
      "id": "Vv_JpjRZT6Eo"
    },
    {
      "cell_type": "code",
      "source": [
        "nums = []\n",
        "\n",
        "t = int(input())\n",
        "for i in range(t):\n",
        "    num = int(input().strip())\n",
        "    nums.append(num)\n",
        "\n",
        "Sum = sum(nums)\n",
        "print(str(Sum)[:10])"
      ],
      "metadata": {
        "id": "QRAmmd92UXgT"
      },
      "id": "QRAmmd92UXgT",
      "execution_count": null,
      "outputs": []
    },
    {
      "cell_type": "markdown",
      "source": [
        "# Date: 30/12/2022\n",
        "\n",
        "### Project Euler #15: Lattice Path\n",
        "\n",
        "---\n",
        "\n",
        "--> This is a sidenote,,, something previously done. I have worked on problem 14 before this but there are a couple of testcases that are just wrong, not timeout and I don't remember why this is happeneing because my previous code used to work. So yes, I will revisit that on a later date and start the submission from scratch\n",
        "\n",
        "---\n",
        "\n",
        "The first iteration has a bunch of testcases that timed out. the only reason I could start with something kind of optimised from the start is because I have done this problem before. I know there is just a combinatorial equational answer to this that will make it of O(1), but I believe I can just use the constraints to optimise it like previous problems.\n",
        "\n",
        "The way I did it is by numbering the vertices of the lattice. And the number assigned is the number of paths possible to take from there. And the vertices are calculated using the addition of its adjacent vertices (up and left)\n",
        "\n",
        "---\n",
        "\n",
        "I just built the largest possible lattice based on the constraint at the start. After which, the answer is just the matter of finding the particular vertex which is asked for.\n",
        "\n",
        "\n",
        "\n"
      ],
      "metadata": {
        "id": "wxzhNYeRt_Sl"
      },
      "id": "wxzhNYeRt_Sl"
    },
    {
      "cell_type": "code",
      "source": [
        "def p15(n, m):\n",
        "    n += 1\n",
        "    m += 1\n",
        "    lattice = []\n",
        "\n",
        "    lattice.append([1] * m)\n",
        "\n",
        "    for _ in range(n-1):\n",
        "        row = [0] * (m-1)\n",
        "        row.insert(0, 1)\n",
        "        lattice.append(row)\n",
        "\n",
        "    for i in range(1, n):\n",
        "        for j in range(1, m):\n",
        "            lattice[i][j] = lattice[i-1][j] + lattice[i][j-1]\n",
        "\n",
        "\n",
        "    print(lattice[n-1][m-1] % (10**9 + 7))"
      ],
      "metadata": {
        "id": "7GEJUg9FxHGe"
      },
      "id": "7GEJUg9FxHGe",
      "execution_count": null,
      "outputs": []
    },
    {
      "cell_type": "code",
      "source": [
        "lattice = []\n",
        "\n",
        "lattice.append([1] * 501)\n",
        "\n",
        "for _ in range(500):\n",
        "    row = [0] * (500)\n",
        "    row.insert(0, 1)\n",
        "    lattice.append(row)\n",
        "\n",
        "for i in range(1, 501):\n",
        "    for j in range(1, 501):\n",
        "        lattice[i][j] = lattice[i-1][j] + lattice[i][j-1]\n",
        "\n",
        "\n",
        "def p15a(n, m):\n",
        "    print(lattice[n][m] % (10**9 + 7))"
      ],
      "metadata": {
        "id": "rTlJtx5wxs6C"
      },
      "id": "rTlJtx5wxs6C",
      "execution_count": null,
      "outputs": []
    },
    {
      "cell_type": "markdown",
      "source": [
        "# Date: 30/12/2022\n",
        "\n",
        "### Project Euler #16: Power Digit Sum\n",
        "\n",
        "---\n",
        "\n",
        "This would have been exponentially harder in C++, but in python it was pretty trivial."
      ],
      "metadata": {
        "id": "wvbyBEV60ayk"
      },
      "id": "wvbyBEV60ayk"
    },
    {
      "cell_type": "code",
      "source": [
        "def p16(n):\n",
        "    Sum = 0\n",
        "    for d in str(1 << n):\n",
        "        Sum += int(d)\n",
        "\n",
        "    print(Sum)"
      ],
      "metadata": {
        "id": "jTzUmp9K0rUi"
      },
      "id": "jTzUmp9K0rUi",
      "execution_count": null,
      "outputs": []
    },
    {
      "cell_type": "markdown",
      "source": [
        "#Date: 30/12/2022\n",
        "\n",
        "### Project Euler #17: Number to Words\n",
        "\n",
        "---\n",
        "\n",
        "This one was so painful to debug. I was stuck for so long trying to figure out what is wrong and I had spelt Fifteen as Fiveteen. I literally cannot-\n",
        "\n",
        "Anyways, other than that it was pretty okay. I wanted to build an entire dictionary for every single one-to-one transformation but using lists was so much simpler.\n",
        "\n",
        "Yeah, no; this one was so annoying to do: 3/10"
      ],
      "metadata": {
        "id": "7jGi5zPRG9zn"
      },
      "id": "7jGi5zPRG9zn"
    },
    {
      "cell_type": "code",
      "source": [
        "thousands = [\"\", \" Thousand\", \" Million\", \" Billion\", \" Trillion\"]\n",
        "\n",
        "ones      = [\"\", \" One\", \" Two\", \" Three\", \" Four\", \" Five\", \" Six\",\n",
        "             \" Seven\", \" Eight\", \" Nine\"]\n",
        "\n",
        "elevens   = [\" Ten\", \" Eleven\", \" Twelve\", \" Thirteen\", \" Fourteen\", \" Fifteen\",\n",
        "             \" Sixteen\", \" Seventeen\", \" Eighteen\", \" Nineteen\"]\n",
        "\n",
        "tens      = [\"\", \"\", \" Twenty\", \" Thirty\", \" Forty\", \" Fifty\", \" Sixty\",\n",
        "             \" Seventy\", \" Eighty\", \" Ninety\"]\n",
        "\n",
        "def p17(n):\n",
        "    n = n[::-1]\n",
        "    num = [n[i:i+3][::-1] for i in range(0, len(n), 3)][::-1]\n",
        "    place = len(num) - 1\n",
        "\n",
        "    word = \"\"\n",
        "\n",
        "\n",
        "    for d in num:\n",
        "        if len(d) == 3:\n",
        "            if d == \"000\":\n",
        "                place -= 1\n",
        "                continue\n",
        "\n",
        "            if d[0] != '0':\n",
        "                word += ones[int(d[0])] + \" Hundred\"\n",
        "            if d[1] == '1':\n",
        "                word += elevens[int(d[2])]\n",
        "            else:\n",
        "                word += tens[int(d[1])] + ones[int(d[2])]\n",
        "\n",
        "        elif len(d) == 2:\n",
        "            if d == \"00\":\n",
        "                place -= 1\n",
        "                continue\n",
        "\n",
        "            if d[0] != '0':\n",
        "                if d[0] == '1':\n",
        "                    word += elevens[int(d[1])]\n",
        "                else:\n",
        "                    word += tens[int(d[0])] + ones[int(d[1])]\n",
        "            else:\n",
        "                word += ones[int(d[1])]\n",
        "\n",
        "        else:\n",
        "            if d == \"0\":\n",
        "                place -= 1\n",
        "                continue\n",
        "\n",
        "            word += ones[int(d[0])]\n",
        "\n",
        "        word += thousands[place]\n",
        "\n",
        "        place -= 1\n",
        "\n",
        "\n",
        "    print(word.strip())"
      ],
      "metadata": {
        "id": "v_V7ivqEHHZQ"
      },
      "id": "v_V7ivqEHHZQ",
      "execution_count": null,
      "outputs": []
    },
    {
      "cell_type": "markdown",
      "source": [
        "#Date: 30/12/2022\n",
        "\n",
        "### Project Euler #20: Factorial Digit Sum\n",
        "\n",
        "---\n",
        "\n",
        "--> Sidenote: The next couple of problems are chosen based on difficulty, basically they are extremely easy and I want to get a couple of them out of the way.\n",
        "\n",
        "---\n",
        "\n",
        "The only optimisation I thought of is to calculate the factorial iteratively, rather than recursively. Other than that, just some python things. I will look up how to do this the mathy way though, myabe this is just to test how to handle very big integers in code."
      ],
      "metadata": {
        "id": "aHMyXMSTSIN0"
      },
      "id": "aHMyXMSTSIN0"
    },
    {
      "cell_type": "code",
      "source": [
        "def p20(n):\n",
        "    fact = 1\n",
        "    i = 2\n",
        "    while i <= n:\n",
        "        fact *= i\n",
        "        i += 1\n",
        "\n",
        "    Sum = 0\n",
        "    for d in str(fact):\n",
        "        Sum += int(d)\n",
        "\n",
        "    print(Sum)"
      ],
      "metadata": {
        "id": "FiEovjOnS0kB"
      },
      "id": "FiEovjOnS0kB",
      "execution_count": null,
      "outputs": []
    },
    {
      "cell_type": "markdown",
      "source": [
        "#Date: 30/12/2022\n",
        "\n",
        "### Project Euler #22: Names Score\n",
        "\n",
        "---\n",
        "\n",
        "Pythin having so many built-in functions for lists off the get-go is pretty convenient. Again, becuase of those functions, this was very trivial."
      ],
      "metadata": {
        "id": "FotSwNfGWaTS"
      },
      "id": "FotSwNfGWaTS"
    },
    {
      "cell_type": "code",
      "source": [
        "n = int(input())\n",
        "names = []\n",
        "for _ in range(n):\n",
        "    name = input().strip()\n",
        "    names.append(name)\n",
        "#this sorts the list in place, by default in ascending order\n",
        "names.sort()\n",
        "\n",
        "\n",
        "\n",
        "def p22(Name):\n",
        "    score = 0\n",
        "    for c in Name:\n",
        "#the value of 64 is based on the ASCII table\n",
        "        score += ord(c) - 64\n",
        "\n",
        "    print(score * (names.index(Name) + 1))"
      ],
      "metadata": {
        "id": "vppBhaVKWtBu"
      },
      "id": "vppBhaVKWtBu",
      "execution_count": null,
      "outputs": []
    },
    {
      "cell_type": "markdown",
      "source": [
        "#Date: 6/1/2023\n",
        "\n",
        "### Project Euler #18: Maximum Path Sum I\n",
        "\n",
        "---\n",
        "\n",
        "This one was weird. It took me very long to figure out how to iterate through the triangle because I kept comparing it to a binary tree and how I iterated through that.\n",
        "Once I got that somewhat sorted in my head, I just added the maximum path till that point and replaced the values in the triangle itself. We did a similar thing in the lattice problem (Problem #15).\n",
        "The first iteration couldn't do test cases 1 and 2.\n",
        "\n",
        "\n",
        "---\n",
        "\n",
        "The only change in this version is the removal of a corner case that I put in. This was figured out by going to the discussion. I am not entirely sure why that was wrong; this kind of looks like a pseudo-recursive function with the corner case built into the for-loop.\n",
        "\n",
        "This is not particularly efficient, just brute-forced this."
      ],
      "metadata": {
        "id": "MIKuwvyjAwN5"
      },
      "id": "MIKuwvyjAwN5"
    },
    {
      "cell_type": "code",
      "source": [
        "def p18(tNum, n):\n",
        "    if n == 1:\n",
        "        print(tNum[0][0])\n",
        "\n",
        "\n",
        "    for i in range(n-2, -1, -1):\n",
        "        for j in range(len(tNum[i])):\n",
        "            tNum[i][j] += max(tNum[i+1][j], tNum[i+1][j+1])\n",
        "\n",
        "    print(tNum[0][0])\n",
        "\n",
        "\n",
        "\n",
        "t = int(input())\n",
        "for _ in range(t):\n",
        "    n = int(input())\n",
        "    tNum = []\n",
        "    for _ in range(n):\n",
        "       row = input().split()\n",
        "       tNum.append([int(x) for x in row])\n",
        "    p18(tNum, n)"
      ],
      "metadata": {
        "id": "VjruaBKCCSCn"
      },
      "id": "VjruaBKCCSCn",
      "execution_count": null,
      "outputs": []
    },
    {
      "cell_type": "code",
      "source": [
        "def p18a(tNum, n):\n",
        "    for i in range(n-2, -1, -1):\n",
        "        for j in range(len(tNum[i])):\n",
        "            tNum[i][j] += max(tNum[i+1][j], tNum[i+1][j+1])\n",
        "\n",
        "    print(tNum[0][0])\n"
      ],
      "metadata": {
        "id": "Fywgt2VVDXxz"
      },
      "id": "Fywgt2VVDXxz",
      "execution_count": null,
      "outputs": []
    },
    {
      "cell_type": "markdown",
      "source": [
        "#Date: 7/1/2023\n",
        "\n",
        "### Project Euler #19: Counting Sundays\n",
        "\n",
        "---\n",
        "\n",
        "This problem's optimisation come about due to the sheer annoyance tyhat I felt trying to code the brute-force method. I knew that the calendar more or less repeats itself after every 400 years, thought I would use that repetition.\n",
        "Even thinking about it felt wrong, so ended up remembering Zeller's Congruence Algorithm (which we had used in CSIT202) and then just iterated through the 1st of every month till end date and plugged it into the algorithm.\n",
        "And yes, very much copied the code of the Zeller's algorithm from GeeksforGeeks -->\n",
        "\n",
        "https://www.geeksforgeeks.org/zellers-congruence-find-day-date/"
      ],
      "metadata": {
        "id": "iBUQtqqA0k-_"
      },
      "id": "iBUQtqqA0k-_"
    },
    {
      "cell_type": "code",
      "source": [
        "def Day(d, m, y):\n",
        "    if m == 1:\n",
        "        m = 13\n",
        "        y -= 1\n",
        "\n",
        "    if m == 2:\n",
        "        m = 14\n",
        "        y -= 1\n",
        "\n",
        "    q = d\n",
        "    m = m\n",
        "    k = y % 100\n",
        "    j = y // 100\n",
        "\n",
        "    h = q + 13 * (m + 1)//5 + k + k//4 + j//4 + 5*j\n",
        "    return h % 7\n",
        "\n",
        "\n",
        "def p19(sDate, eDate):\n",
        "    y1, m1, d1 = [int(x) for x in sDate.split()]\n",
        "    y2, m2, d2 = [int(x) for x in eDate.split()]\n",
        "\n",
        "\n",
        "    if d1 != 1:\n",
        "        d = 1\n",
        "        if m1 == 12:\n",
        "            m = 1\n",
        "            y = y1 + 1\n",
        "        else:\n",
        "            m = m1 + 1\n",
        "            y = y1\n",
        "    else:\n",
        "        d = d1\n",
        "        m = m1\n",
        "        y = y1\n",
        "\n",
        "    count = 0\n",
        "    while y < y2:\n",
        "\n",
        "        if Day(d, m, y) == 1:\n",
        "            # print(d, m, y)\n",
        "            count += 1\n",
        "\n",
        "        if m == 12:\n",
        "            m = 1\n",
        "            y += 1\n",
        "        else:\n",
        "            m += 1\n",
        "\n",
        "    while m <= m2:\n",
        "\n",
        "        if Day(d, m, y) == 1:\n",
        "            # print(d, m, y)\n",
        "            count += 1\n",
        "\n",
        "        m += 1\n",
        "\n",
        "    print(count)"
      ],
      "metadata": {
        "id": "3tGmr1VI1YQ5"
      },
      "id": "3tGmr1VI1YQ5",
      "execution_count": null,
      "outputs": []
    },
    {
      "cell_type": "markdown",
      "source": [
        "#Date: 7/1/2023\n",
        "\n",
        "### Project Euler #23: Non-abundant Sums\n",
        "\n",
        "---\n",
        "\n",
        "This was the first working try. Turns out what I am doing is known as memoization, that is one kind of optimisation that I have performed. Moreover, I could further optimise it, but the only ones I can think of would give trivial improvements."
      ],
      "metadata": {
        "id": "2JCjmgs0YsBm"
      },
      "id": "2JCjmgs0YsBm"
    },
    {
      "cell_type": "code",
      "source": [
        "def SumDivisors(n):\n",
        "    i = 2\n",
        "    Sum = 1\n",
        "    while i * i < n:\n",
        "        if n % i == 0:\n",
        "           Sum += i + n//i\n",
        "        i += 1\n",
        "\n",
        "    if n/i == i:\n",
        "        Sum += i\n",
        "\n",
        "    return Sum\n",
        "\n",
        "\n",
        "AbundantNum = [False] * 100001\n",
        "\n",
        "for i in range (12, 100002):\n",
        "    if SumDivisors(i) > i:\n",
        "        AbundantNum[i] = True\n",
        "\n",
        "def p23(n):\n",
        "    for i in range(n):\n",
        "        if AbundantNum[i] and AbundantNum[n - i]:\n",
        "            return True\n",
        "    return False\n",
        "\n",
        "\n",
        "t = int((input()))\n",
        "for _ in range(t):\n",
        "    n = int(input())\n",
        "    print(\"YES\" if p23(n) else \"NO\")\n"
      ],
      "metadata": {
        "id": "w7rfIv0nYsae"
      },
      "id": "w7rfIv0nYsae",
      "execution_count": null,
      "outputs": []
    },
    {
      "cell_type": "markdown",
      "source": [
        "#Date: 7/1/2023\n",
        "\n",
        "### Project Euler #25: N-digit Fibonacci Number\n",
        "\n",
        "---\n",
        "\n",
        "I think this iteration of the algorithm barely got through the final test case. It iteratively calculates the fibonacci number and saves its length. Moreover, it memoises all the lengths until 5000 and then just uses the index to find the smallest number with at least that many digits."
      ],
      "metadata": {
        "id": "F0X595-EB5dO"
      },
      "id": "F0X595-EB5dO"
    },
    {
      "cell_type": "code",
      "source": [
        "fibo_len = [1, 1, 1]\n",
        "fibo_bef = 1\n",
        "fibo_bef_bef = 1\n",
        "while True:\n",
        "    curr = fibo_bef + fibo_bef_bef\n",
        "    if len(str(curr)) > 5000:\n",
        "        break\n",
        "\n",
        "    fibo_len.append(len(str(curr)))\n",
        "    fibo_bef_bef = fibo_bef\n",
        "    fibo_bef = curr\n",
        "\n",
        "\n",
        "def p25(n):\n",
        "    for i in range(7, len(fibo_len)):\n",
        "        if fibo_len[i] >= n:\n",
        "            return i\n"
      ],
      "metadata": {
        "id": "FiadlqBFC5y-"
      },
      "id": "FiadlqBFC5y-",
      "execution_count": null,
      "outputs": []
    },
    {
      "cell_type": "markdown",
      "source": [
        "#Date: 11/1/2023\n",
        "\n",
        "### Project Euler #30: Digit Nth Powers\n",
        "\n",
        "---\n",
        "\n",
        "Had to decide a maximum limit for this, just chose an arbitrary large number, the first guess timed out so just kept removing a zero until it didn't time-out.\n",
        "Yes, I am not particularly happy about that."
      ],
      "metadata": {
        "id": "QAR5X_rsrUmV"
      },
      "id": "QAR5X_rsrUmV"
    },
    {
      "cell_type": "code",
      "source": [
        "def p30(n):\n",
        "    MetaSum = 0\n",
        "    for i in range(10, 1000000):\n",
        "        Sum = 0\n",
        "        for d in str(i):\n",
        "            Sum += (int(d)**n)\n",
        "        if Sum == i:\n",
        "            MetaSum += i\n",
        "    print(MetaSum)"
      ],
      "metadata": {
        "id": "7Ko2rDmssB7O"
      },
      "id": "7Ko2rDmssB7O",
      "execution_count": null,
      "outputs": []
    },
    {
      "cell_type": "markdown",
      "source": [
        "#Date: 13/1/2023\n",
        "\n",
        "### Project Euler #24: Lexicographic Permutations\n",
        "\n",
        "---\n",
        "\n",
        "I had to refer to [this site](https://medium.com/@aiswaryamathur/find-the-n-th-permutation-of-an-ordered-string-using-factorial-number-system-9c81e34ab0c8) to find the correct algorithm to do it. The first try was to brute-force it (like most problems here), however I realised how hard that would be to just program as strings in python are immutable. Therefore, I looked for a way to find the nth permutation without having to calculate the previous one. That's where the factoridic base number system is what we learn about. Using the algorithm I found, it was pretty easy."
      ],
      "metadata": {
        "id": "RMXyil6k4Vgm"
      },
      "id": "RMXyil6k4Vgm"
    },
    {
      "cell_type": "code",
      "source": [
        "def factoradic(n):\n",
        "    ans = [0] * 13              # word is of length 13\n",
        "    i = 1\n",
        "    while n > 0:\n",
        "        ans[13 - i] = n % i\n",
        "        n //= i\n",
        "        i += 1\n",
        "\n",
        "    return ans\n",
        "\n",
        "\n",
        "def p24(n):\n",
        "    word = list(\"abcdefghijklm\")\n",
        "    factoradic_n = factoradic(n-1)\n",
        "    ans = \"\"\n",
        "\n",
        "    for d in factoradic_n:\n",
        "        ans += word.pop(d)\n",
        "\n",
        "    print(ans)"
      ],
      "metadata": {
        "id": "9shxBeaA5Pk9"
      },
      "id": "9shxBeaA5Pk9",
      "execution_count": null,
      "outputs": []
    },
    {
      "cell_type": "markdown",
      "source": [
        "#Date: 14/1/2023\n",
        "\n",
        "### Project Euler #31: Coin Sums\n",
        "\n",
        "---\n",
        "\n",
        "This was a cool problem, memoisation is kinda built into the solution. We can find the number of ways of calculating a sum by finding the previous ways subtracted by the amount of adding a coin. So the number of ways we can do 7 is by finding number of ways to form 6 + adding a 1p coin (basically the same number of ways),, and so on. Doing it recursively just seemed like it would be inefficient so just went with the iterative one where you buuild the entire array more or less simultaneously."
      ],
      "metadata": {
        "id": "W5kC5t-DEMfu"
      },
      "id": "W5kC5t-DEMfu"
    },
    {
      "cell_type": "code",
      "source": [
        "coins = [1, 2, 5, 10, 20, 50, 100, 200]\n",
        "ways = [1] + [0]*10**5\n",
        "# ^ first element has to be 1, to make sure ways[1] is the correct answer\n",
        "# and techincally, there is only way to have 0 amount\n",
        "\n",
        "for c in coins:\n",
        "    for i in range(c, 10**5 + 1):\n",
        "        ways[i] += ways[i - c]\n",
        "\n",
        "\n",
        "t = int(input())\n",
        "for _ in range(t):\n",
        "    n = int(input())\n",
        "    print(ways[n] % (10**9 + 7))"
      ],
      "metadata": {
        "id": "SK0KVTAnE2k5"
      },
      "id": "SK0KVTAnE2k5",
      "execution_count": null,
      "outputs": []
    },
    {
      "cell_type": "markdown",
      "source": [
        "#Date: 14/1/2023\n",
        "\n",
        "### Project Euler #32: Pandigital Products\n",
        "\n",
        "---\n",
        "\n",
        "Small optimisations here, but it seems mostly brute force. Again, went with high values in the for loop and kept dropping it until no time-outs. This iteration worked for every test case except 5. The problem is that it must have taken a product multiple times, so made some changes for that in the next iteration.\n",
        "\n",
        "---\n",
        "\n",
        "Here added all the products in a list, and then made it into a set.\n",
        "\n"
      ],
      "metadata": {
        "id": "qhOvvu-JL9RF"
      },
      "id": "qhOvvu-JL9RF"
    },
    {
      "cell_type": "code",
      "source": [
        "def p32(n):\n",
        "    comp = [str(x+1) for x in range(n)]\n",
        "    Sum = 0\n",
        "\n",
        "    for i in range(1, 100):\n",
        "        for j in range(i, 10000):\n",
        "\n",
        "            prod = i * j\n",
        "            curr = list(str(i)) + list(str(j)) + list(str(prod))\n",
        "\n",
        "            if len(curr) != n:\n",
        "                continue\n",
        "\n",
        "            curr.sort()\n",
        "\n",
        "            if curr == comp:\n",
        "                Sum += prod\n",
        "\n",
        "    print(Sum)"
      ],
      "metadata": {
        "id": "npnDzJrxMzD4"
      },
      "id": "npnDzJrxMzD4",
      "execution_count": null,
      "outputs": []
    },
    {
      "cell_type": "code",
      "source": [
        "def p32(n):\n",
        "    comp = [str(x+1) for x in range(n)]\n",
        "    Prods = []\n",
        "\n",
        "    for i in range(1, 100):\n",
        "        for j in range(i, 10000):\n",
        "\n",
        "            prod = i * j\n",
        "            curr = list(str(i)) + list(str(j)) + list(str(prod))\n",
        "\n",
        "            if len(set(curr)) != n:\n",
        "                continue\n",
        "\n",
        "            curr.sort()\n",
        "\n",
        "            if curr == comp:\n",
        "                Prods.append(prod)\n",
        "\n",
        "    print(sum(set(Prods)))"
      ],
      "metadata": {
        "id": "oYHkH1h_MzO0"
      },
      "id": "oYHkH1h_MzO0",
      "execution_count": null,
      "outputs": []
    },
    {
      "cell_type": "markdown",
      "source": [
        "#Date: 22/1/2023\n",
        "\n",
        "### Project Euler #14: Longest Collatz Sequence\n",
        "\n",
        "\n",
        "---\n",
        "\n",
        "The first attempt is a pseudo memoisation. Where I build the global list as the size of the inputs increase. I believe a lot of my time is being spent trying to find the largest number. I am not entirely sure where exactly my timeloss is here.\n",
        "\n",
        "---\n",
        "\n",
        "Therefore, I want to try and memoise differnetly, where each test case will have a different global list built.\n",
        "\n",
        "---\n",
        "\n",
        "This version has multiple optimisations built in, the first one is the way to calculate collatz sequences, because we are memoising the inputs, it is easy to just use the previously calculated inputs to build the new collatz sequence. Secondly, finding the index of the largest collatz sequence was proving to be significantly harder than we thought, so I tried optimising this by also memoising the results based on the collatz lengths.\n"
      ],
      "metadata": {
        "id": "SXR2-jAfdmCy"
      },
      "id": "SXR2-jAfdmCy"
    },
    {
      "cell_type": "code",
      "source": [
        "collatz_len = [0]\n",
        "def p14(n):\n",
        "    length = len(collatz_len)\n",
        "\n",
        "    if n > length - 1:\n",
        "        i = length\n",
        "\n",
        "        while i <= n:\n",
        "            k = i\n",
        "            col = 1\n",
        "            while k != 1:\n",
        "                k = (3*k + 1) if (k % 2) else k//2\n",
        "                col += 1\n",
        "\n",
        "            collatz_len.append(col)\n",
        "            i += 1\n",
        "\n",
        "    # print(collatz_len)\n",
        "    return [i for i, x in enumerate(collatz_len[:(n+1)]) if x == max(collatz_len[:(n+1)])][-1]\n"
      ],
      "metadata": {
        "id": "4W9YIy-IjMP9"
      },
      "id": "4W9YIy-IjMP9",
      "execution_count": null,
      "outputs": []
    },
    {
      "cell_type": "code",
      "source": [
        "t = int(input())\n",
        "inp = [int(input()) for _ in range(t)]\n",
        "\n",
        "\n",
        "length = max(inp) + 1\n",
        "\n",
        "collatz_len = [0] * length\n",
        "\n",
        "i = 1\n",
        "while i < length:\n",
        "    k = i\n",
        "    col = 1\n",
        "    while k != 1:\n",
        "        k = (3*k + 1) if (k % 2) else k//2\n",
        "        col += 1\n",
        "\n",
        "    collatz_len[i] = col\n",
        "\n",
        "    i += 1\n",
        "\n",
        "\n",
        "def p14a(n):\n",
        "    val = max(collatz_len[:(n+1)])\n",
        "    for i in range(n, 0, -1):\n",
        "        if collatz_len[i] == val:\n",
        "            return i\n",
        "\n",
        "for n in inp:\n",
        "    print(p14a(n))"
      ],
      "metadata": {
        "id": "hL3vo4XEjWbk"
      },
      "id": "hL3vo4XEjWbk",
      "execution_count": null,
      "outputs": []
    },
    {
      "cell_type": "code",
      "source": [
        "t = int(input())\n",
        "inp = [int(input()) for _ in range(t)]\n",
        "\n",
        "\n",
        "length = max(inp) + 1\n",
        "\n",
        "collatz_len = [0] * length\n",
        "\n",
        "i = 1\n",
        "while i < length:\n",
        "    k = i\n",
        "    col = 1\n",
        "    while k != 1:\n",
        "        k = (3*k + 1) if (k % 2) else k//2\n",
        "        if k < length - 1:\n",
        "            if collatz_len[k]:\n",
        "                col += collatz_len[k]\n",
        "                break\n",
        "        col += 1\n",
        "\n",
        "    collatz_len[i] = col\n",
        "\n",
        "    i += 1\n",
        "\n",
        "\n",
        "\n",
        "Return = [0] * length\n",
        "\n",
        "Max = 1\n",
        "Index = 1\n",
        "for ii in range(1, length):\n",
        "    if collatz_len[ii] >= Max:\n",
        "        Max = collatz_len[ii]\n",
        "        Index = ii\n",
        "    Return[ii] = Index\n",
        "\n",
        "\n",
        "def p14b(n):\n",
        "    pass\n",
        "\n",
        "for n in inp:\n",
        "    print(Return[n])"
      ],
      "metadata": {
        "id": "68n0LkXgrRue"
      },
      "id": "68n0LkXgrRue",
      "execution_count": null,
      "outputs": []
    },
    {
      "cell_type": "markdown",
      "source": [
        "#Date: 22/1/2023\n",
        "\n",
        "### Project Euler #27: Quadratic Primes\n",
        "\n",
        "\n",
        "---\n",
        "\n",
        "This was so easy, I just didn't debug my code the first time I tried this problem and kinda just gave up.\n",
        "One easy optimisation is that b will always be prime, because n can be 0. So that reduces the amount of checks you have to do by a lot."
      ],
      "metadata": {
        "id": "NGB_M9rv1_Oq"
      },
      "id": "NGB_M9rv1_Oq"
    },
    {
      "cell_type": "code",
      "source": [
        "def primes(n):\n",
        "    Primes = [True] * (n + 1)\n",
        "\n",
        "    Primes[0] = Primes[1] = False\n",
        "\n",
        "    for i in range(2, int(n**(0.5))+1):\n",
        "        if Primes[i]:\n",
        "            for j in range(i*i, n+1, i):\n",
        "                Primes[j] = False\n",
        "\n",
        "    return [x for x in range(n+1) if Primes[x]]\n",
        "\n",
        "\n",
        "def isPrime(n):\n",
        "    if n < 2:\n",
        "        return False\n",
        "    for i in range(2, int(n**(0.5))+1):\n",
        "        if n % i == 0:\n",
        "            return False\n",
        "    return True\n",
        "\n",
        "\n",
        "def p27(n):\n",
        "    PRIMES = primes(n)\n",
        "\n",
        "    MaxCount = 0\n",
        "    maxA = 0\n",
        "    maxB = 0\n",
        "\n",
        "    for b in PRIMES:\n",
        "        for a in range(-n, n+1):\n",
        "            i = 0\n",
        "            count = 0\n",
        "            while True:\n",
        "                if not isPrime(i*i + a*i + b):\n",
        "                    break\n",
        "                i += 1\n",
        "                count += 1\n",
        "\n",
        "            if count > MaxCount:\n",
        "                MaxCount = count\n",
        "                maxA = a\n",
        "                maxB = b\n",
        "\n",
        "    print(maxA, maxB)\n",
        "\n",
        "p27(int(input()))\n"
      ],
      "metadata": {
        "id": "ZV42pxQL2dK_"
      },
      "id": "ZV42pxQL2dK_",
      "execution_count": null,
      "outputs": []
    },
    {
      "cell_type": "markdown",
      "source": [
        "#Date: 22/1/2023\n",
        "\n",
        "### Project Euler #21: Amicable Numbers\n",
        "\n",
        "\n",
        "---\n",
        "\n",
        "The below answer gives wrong answer for two test cases and I have no idea why. I am so tired of this, I shall go to sleep.\n",
        "\n",
        "---\n",
        "\n",
        "Okay, I dont understand why this worked, but yay!\n",
        "\n",
        "I am so confused."
      ],
      "metadata": {
        "id": "7efm4KWC7fdM"
      },
      "id": "7efm4KWC7fdM"
    },
    {
      "cell_type": "code",
      "source": [
        "def SumDivsors(n):\n",
        "    Sum = 1\n",
        "    for i in range(2, int(n**(0.5))+1):\n",
        "        if n % i == 0:\n",
        "            Sum += i\n",
        "            if i != n // i:\n",
        "                Sum += n // i\n",
        "    return Sum\n",
        "\n",
        "Div = [-1] + [SumDivsors(x) for x in range(1, 100001)]\n",
        "\n",
        "def p21(n):\n",
        "    Sum = 0\n",
        "\n",
        "    for i in range(1, n+1):\n",
        "        if Div[i] <= n:\n",
        "            if Div[Div[i]] == i and Div[i] != i:\n",
        "                Sum += i\n",
        "\n",
        "    print(Sum)"
      ],
      "metadata": {
        "id": "la85fECy7fnD"
      },
      "id": "la85fECy7fnD",
      "execution_count": null,
      "outputs": []
    },
    {
      "cell_type": "code",
      "source": [
        "def SumDivsors(n):\n",
        "    Sum = 1\n",
        "    for i in range(2, int(n**(0.5))+1):\n",
        "        if n % i == 0:\n",
        "            Sum += i\n",
        "            if i != n // i:\n",
        "                Sum += n // i\n",
        "    return Sum\n",
        "\n",
        "Div = [-1] + [SumDivsors(x) for x in range(1, 100001)]\n",
        "\n",
        "def p21a(n):\n",
        "    Sum = 0\n",
        "\n",
        "    for i in range(1, n+1):\n",
        "        if Div[i] <= 100000:                      # this is the difference\n",
        "            if Div[Div[i]] == i and Div[i] != i:\n",
        "                Sum += i\n",
        "\n",
        "    print(Sum)"
      ],
      "metadata": {
        "id": "OEhHMS6--Y8W"
      },
      "id": "OEhHMS6--Y8W",
      "execution_count": null,
      "outputs": []
    },
    {
      "cell_type": "markdown",
      "source": [
        "#Date: 22/1/2023\n",
        "\n",
        "### Project Euler #26: Reciprocal Cycles\n",
        "\n",
        "\n",
        "---\n",
        "\n",
        "I found the algorithm by using this paper that I [found in discussion](http://www.mrwright.org/docs/cycles.pdf).\n",
        "\n",
        "I somewhat understand how it works, I am not entirely certain and definitely won't be able to explain it at the time of writing this.\n",
        "\n",
        "This iteration of code lead to the final test case timing out. I will probably have to find a better way to structure my algorithm.\n",
        "\n",
        "\n",
        "---\n",
        "\n",
        "Okay wow, I did not expect small optimisations to help, but I did a couple of those and it just worked. Removed all the appending and counting in the list. Made sure most of my list operations were indexing in the main cycle function.\n",
        "\n",
        "####---> Sidenote\n",
        "This solution is weird, it is at the edge of the time limit and I think I got lucky once where it ended up accepting it nut most times it doesnt. I will take it.\n",
        "\n",
        "Okay, I dont know what is happening, maybe I got really lucky, it doesnt seem to accept it anymore. Maybe a bug?"
      ],
      "metadata": {
        "id": "14wtqjTRHW06"
      },
      "id": "14wtqjTRHW06"
    },
    {
      "cell_type": "code",
      "source": [
        "def cycle(den):\n",
        "    num = 1\n",
        "    length = 0\n",
        "    U = []\n",
        "\n",
        "    while True:\n",
        "        num *= 10\n",
        "\n",
        "        u = num % den\n",
        "\n",
        "        if u == 0:\n",
        "            return 0\n",
        "\n",
        "        if U.count(u):\n",
        "            return length\n",
        "\n",
        "        U.append(u)\n",
        "        length += 1\n",
        "\n",
        "\n",
        "t = int(input())\n",
        "inp = [int(input()) for _ in range(t)]\n",
        "\n",
        "Cycles = [-1] + [cycle(x) for x in range(1, max(inp))]\n",
        "\n",
        "def p26(n):\n",
        "    return Cycles.index(max(Cycles[:n]))\n",
        "\n",
        "for ii in inp:\n",
        "    print(p26(ii))"
      ],
      "metadata": {
        "id": "lvGJtYbKHXP5"
      },
      "id": "lvGJtYbKHXP5",
      "execution_count": null,
      "outputs": []
    },
    {
      "cell_type": "code",
      "source": [
        "def cycle(den):\n",
        "    num = 1\n",
        "    U = [0] * den\n",
        "    length = 0\n",
        "    while True:\n",
        "        num *= 10\n",
        "\n",
        "        u = num % den\n",
        "\n",
        "        if u == 0:\n",
        "            return 0\n",
        "\n",
        "        if U[u]:\n",
        "            return length\n",
        "\n",
        "        U[u] = 1\n",
        "        length += 1\n",
        "\n",
        "\n",
        "t = int(input())\n",
        "inp = [int(input()) for _ in range(t)]\n",
        "\n",
        "Cycles = [-1] + [cycle(x) for x in range(1, max(inp))]\n",
        "\n",
        "\n",
        "def p26a(n):\n",
        "    return Cycles.index(max(Cycles[:n]))\n",
        "\n",
        "for ii in inp:\n",
        "    print(p26a(ii))"
      ],
      "metadata": {
        "id": "jzucEL4sL5KC"
      },
      "id": "jzucEL4sL5KC",
      "execution_count": null,
      "outputs": []
    },
    {
      "cell_type": "markdown",
      "source": [
        "#Date: 25/1/2023\n",
        "\n",
        "### Project Euler #35: Circular Primes\n",
        "\n",
        "\n",
        "---\n",
        "\n",
        "The optimised functions for primes, used the same ones everywhere before. Thought of trying to find the circular permutations by converting to string but just ended up doing the mathy way because it was integers (it would be faster,,, not sure about that though)."
      ],
      "metadata": {
        "id": "R9ZhMMytbKkl"
      },
      "id": "R9ZhMMytbKkl"
    },
    {
      "cell_type": "code",
      "source": [
        "def primes(n):\n",
        "    Primes = [True] * (n + 1)\n",
        "\n",
        "    Primes[0] = Primes[1] = False\n",
        "\n",
        "    for i in range(2, int(n**(0.5))+1):\n",
        "        if Primes[i]:\n",
        "            for j in range(i*i, n+1, i):\n",
        "                Primes[j] = False\n",
        "\n",
        "    return [x for x in range(n+1) if Primes[x]]\n",
        "\n",
        "\n",
        "def isPrime(n):\n",
        "    if n < 2:\n",
        "        return False\n",
        "    for i in range(2, int(n**(0.5))+1):\n",
        "        if n % i == 0:\n",
        "            return False\n",
        "    return True\n",
        "\n",
        "\n",
        "\n",
        "def p35(n):\n",
        "    PRIMES = primes(n)\n",
        "\n",
        "    Sum = 0\n",
        "    for d in PRIMES:\n",
        "        length = len(str(d))\n",
        "        num = d\n",
        "        add = True\n",
        "\n",
        "        while True:\n",
        "            # print(num)\n",
        "            if not isPrime(num):\n",
        "                add = False\n",
        "                break\n",
        "\n",
        "            rem = num % 10\n",
        "            div = num // 10\n",
        "            num = (10 ** (length - 1)) * rem + div\n",
        "\n",
        "            if num == d:\n",
        "                break\n",
        "\n",
        "        if add:\n",
        "            Sum += d\n",
        "\n",
        "    print(Sum)\n",
        "\n",
        "\n",
        "p35(int(input()))"
      ],
      "metadata": {
        "id": "NPzeCForb_a5"
      },
      "id": "NPzeCForb_a5",
      "execution_count": null,
      "outputs": []
    },
    {
      "cell_type": "markdown",
      "source": [
        "#Date: 25/1/2023\n",
        "\n",
        "### Project Euler #36: Double-base Palindromes\n",
        "\n",
        "\n",
        "---\n",
        "\n",
        "This one was extrememly easy using string manipulation in python."
      ],
      "metadata": {
        "id": "qPAuztU5fazX"
      },
      "id": "qPAuztU5fazX"
    },
    {
      "cell_type": "code",
      "source": [
        "def Convert(num: int, base: int) -> str:\n",
        "    res = \"\"\n",
        "    while num != 0:\n",
        "        res += str(num % base)\n",
        "        num //= base\n",
        "\n",
        "    return res[::-1]\n",
        "\n",
        "\n",
        "def p36(n, k):\n",
        "    Sum = 0\n",
        "    for i in range(1, n):\n",
        "        ins = str(i)\n",
        "        if ins == ins[::-1]:\n",
        "            iks = Convert(i, k)\n",
        "            if iks == iks[::-1]:\n",
        "                Sum += i\n",
        "\n",
        "    print(Sum)\n",
        "\n",
        "\n",
        "\n",
        "n, k = input().split(\" \")\n",
        "p36(int(n), int(k))"
      ],
      "metadata": {
        "id": "Kn4D_fqNfmgA"
      },
      "id": "Kn4D_fqNfmgA",
      "execution_count": null,
      "outputs": []
    },
    {
      "cell_type": "markdown",
      "source": [
        "#Date: 30/1/2023\n",
        "\n",
        "### Project Euler #9: Special Pythagorean Triplet\n",
        "\n",
        "\n",
        "---\n",
        "\n",
        "This one was something I was putting off becuase I was just procrastinating doing the maths. I wanted to iterate through the values of a. It was very clear from the start that N has to be even:\n",
        "\n",
        "$a^2 + b^2 = c^2$  \n",
        "--\n",
        "$Odd + Even = Odd$  \n",
        "$Even + Even = Even$  \n",
        "$Odd + Odd = Even$  \n",
        "\n",
        "$\\implies$  \n",
        "\n",
        "$a + b + c = N$  \n",
        "--\n",
        "$Odd + Even + Odd = Even$  \n",
        "$Odd + Odd + Even = Even$  \n",
        "$Even + Even + Even = Even$  \n",
        "  \n",
        "Moreover,\n",
        "  \n",
        "$N^2 = a^2 + b^2 + c^2 + 2(ab + bc + ca)$  \n",
        "$N^2 = 2c^2 + 2(a(b + c) + bc)$  \n",
        "$N^2 = 2(c^2 + aN - a^2 + bc)$  \n",
        "$N^2 - 2Na = 2(b^2 + bc)$  \n",
        "$N^2 - Na \\over 2(b + c)$ $=$ $2b(b + c) \\over 2(b+c)$  \n",
        "\n",
        "**$N^2 - Na \\over 2(N - a)$ $= b$**\n",
        "\n",
        "**$N - a - b = c$**\n"
      ],
      "metadata": {
        "id": "ZwQuU6zRtuoL"
      },
      "id": "ZwQuU6zRtuoL"
    },
    {
      "cell_type": "code",
      "source": [
        "def p9(n):\n",
        "# if even\n",
        "    if n % 2 == 0:\n",
        "        ans = 0\n",
        "    # arbitrary n//2 because a is the smallest\n",
        "        for a in range(1, n//2):\n",
        "            b = n * (n - 2*a) // (2*(n - a))\n",
        "            c = n - a - b\n",
        "\n",
        "            temp = a*b*c\n",
        "\n",
        "            # print(a, b, c)\n",
        "            if a*a + b*b == c*c:\n",
        "                ans = temp if temp > ans else ans\n",
        "\n",
        "        if ans:\n",
        "            print(ans)\n",
        "            return\n",
        "\n",
        "    print(-1)"
      ],
      "metadata": {
        "id": "4sKq8XPm1Ooh"
      },
      "id": "4sKq8XPm1Ooh",
      "execution_count": null,
      "outputs": []
    },
    {
      "cell_type": "markdown",
      "source": [
        "#Date: 30/1/2023\n",
        "\n",
        "### Project Euler #37: Trunctable Primes\n",
        "\n",
        "---\n",
        "\n",
        "The second while loop is just doing this:  \n",
        "if temp = 4798:  \n",
        "temp = (temp % (4 * 10**3) = 798)  \n",
        "and so on...\n",
        "\n",
        "The first while loop truncates from right to left and the second one is left to right"
      ],
      "metadata": {
        "id": "VqLyBmYCGVcB"
      },
      "id": "VqLyBmYCGVcB"
    },
    {
      "cell_type": "code",
      "source": [
        "def isPrime(n):\n",
        "    if n < 2:\n",
        "        return False\n",
        "    for i in range(2, int(n**(0.5))+1):\n",
        "        if n % i == 0:\n",
        "            return False\n",
        "    return True\n",
        "\n",
        "\n",
        "def p37(n):\n",
        "    Sum = 0\n",
        "    for i in range(n-1, 10, -1):\n",
        "        valid = True\n",
        "\n",
        "        temp = i\n",
        "        while temp > 0:\n",
        "            # print(temp)\n",
        "            if not isPrime(temp):\n",
        "                valid = False\n",
        "                break\n",
        "            temp //= 10\n",
        "\n",
        "        if valid:\n",
        "            temp = i\n",
        "            while temp > 0:\n",
        "                if not isPrime(temp):\n",
        "                    valid = False\n",
        "                    break\n",
        "                temp %= (int(str(temp)[0]) * (10**(len(str(temp)) - 1)))\n",
        "\n",
        "        # print(valid)\n",
        "        if valid:\n",
        "            # print(i)\n",
        "            Sum += i\n",
        "\n",
        "    print(Sum)"
      ],
      "metadata": {
        "id": "hKQLVEXJGdxb"
      },
      "id": "hKQLVEXJGdxb",
      "execution_count": null,
      "outputs": []
    },
    {
      "cell_type": "markdown",
      "source": [
        "#Date: 31/1/2023\n",
        "\n",
        "### Project Euler #41: Pandigital Primes\n",
        "\n",
        "\n",
        "---\n",
        "\n",
        "The calculation of lexicograhical permutations of every pandigital number. This led to timing out on two test cases. I am not entirely sure what the $O$ notation for this will be.  \n",
        "One way to make this faster to just iterate through all the numbers and make sure the number we are testing is pandigital. We could also memoize it, but looking at the behaviour of the test case it might not work.\n",
        "\n",
        "_will come back to this_\n",
        "\n",
        "---\n",
        "####################\n",
        "---\n",
        "CAME BACK TO THIS  \n",
        "###Date: 1/2/2023\n",
        "\n",
        "The second iteration hopes to just go through all the numbers, hoping the comparison of pandigital would be easier. However, that assumption of mine particularly naive and this iteration is worse.\n",
        "\n",
        "---\n",
        "\n",
        "I have reverted to tabulation (yes, this is what is called in this case). Maybe use the first iteration's functions to create a lookup table.\n",
        "\n",
        "--> I am so mad right now,, there is an inbuilt permuatations function.\n",
        "AAAHHH  \n",
        "--> Update: Part of the itertools, so wont use it\n",
        "\n",
        "Anyways, used tabulation to solve it. Sorted the table to make lookup fatser."
      ],
      "metadata": {
        "id": "vRkbI9RlhkBC"
      },
      "id": "vRkbI9RlhkBC"
    },
    {
      "cell_type": "code",
      "source": [
        "def factoradic(length, n):\n",
        "    ans = [0] * length\n",
        "    i = 1\n",
        "    while n > 0:\n",
        "        ans[length - i] = n % i\n",
        "        n //= i\n",
        "        i += 1\n",
        "\n",
        "    return ans\n",
        "\n",
        "\n",
        "def fact(i):\n",
        "    ans = 1\n",
        "    for j in range(2, i+1):\n",
        "        ans *= j\n",
        "    return ans\n",
        "\n",
        "\n",
        "def isPrime(n):\n",
        "    if n < 2:\n",
        "        return False\n",
        "    for i in range(2, int(n**(0.5))+1):\n",
        "        if n % i == 0:\n",
        "            return False\n",
        "    return True\n",
        "\n",
        "\n",
        "def p41(n):\n",
        "    if n < 1000:\n",
        "        print(-1)\n",
        "        return\n",
        "    # if n < 10000:\n",
        "    #     print(4231)\n",
        "    #     return\n",
        "\n",
        "    for length in range(len(str(n)), 3, -1):\n",
        "        for i in range(fact(length), 0, -1):\n",
        "            word = [str(x + 1) for x in range(length)]\n",
        "            ans = \"\"\n",
        "\n",
        "            for d in factoradic(length, i-1):\n",
        "                ans += word.pop(d)\n",
        "\n",
        "            # print(ans)\n",
        "\n",
        "            if int(ans) > n:\n",
        "                continue\n",
        "\n",
        "            if isPrime(int(ans)):\n",
        "                print(ans)\n",
        "                return\n"
      ],
      "metadata": {
        "id": "02iOUKy_hkeF"
      },
      "id": "02iOUKy_hkeF",
      "execution_count": null,
      "outputs": []
    },
    {
      "cell_type": "code",
      "source": [
        "def isPrime(n):\n",
        "    if n < 2:\n",
        "        return False\n",
        "    for i in range(2, int(n**(0.5))+1):\n",
        "        if n % i == 0:\n",
        "            return False\n",
        "    return True\n",
        "\n",
        "\n",
        "def p41a(n):\n",
        "    if n < 1000:\n",
        "        print(-1)\n",
        "        return\n",
        "\n",
        "    for i in range(n, 999, -1):\n",
        "        i_word = str(i)\n",
        "        if set(i_word) == set([str(x+1) for x in range(len(i_word))]):\n",
        "            if isPrime(i):\n",
        "                print(i)\n",
        "                return\n",
        "\n",
        "    print(-1)"
      ],
      "metadata": {
        "id": "QULrJg2C_pqf"
      },
      "id": "QULrJg2C_pqf",
      "execution_count": null,
      "outputs": []
    },
    {
      "cell_type": "code",
      "source": [
        "def isPrime(n):\n",
        "    if n < 2:\n",
        "        return False\n",
        "    for i in range(2, int(n**(0.5))+1):\n",
        "        if n % i == 0:\n",
        "            return False\n",
        "    return True\n",
        "\n",
        "\n",
        "def factoradic(length, n):\n",
        "    ans = [0] * length\n",
        "    i = 1\n",
        "    while n > 0:\n",
        "        ans[length - i] = n % i\n",
        "        n //= i\n",
        "        i += 1\n",
        "\n",
        "    return ans\n",
        "\n",
        "\n",
        "def factorial(i):\n",
        "    ans = 1\n",
        "    for j in range(2, i+1):\n",
        "        ans *= j\n",
        "    return ans\n",
        "\n",
        "\n",
        "pandgitalPrimes = []\n",
        "\n",
        "for length in range(4, 10):\n",
        "    builder = [str(x+1) for x in range(length)]\n",
        "    for fact in range(factorial(length)):\n",
        "        digits = builder.copy()\n",
        "        perm = \"\"\n",
        "\n",
        "        for d in factoradic(length, fact):\n",
        "            perm += digits.pop(d)\n",
        "\n",
        "        if isPrime(int(perm)):\n",
        "            pandgitalPrimes.append(int(perm))\n",
        "\n",
        "pandgitalPrimes.sort()\n",
        "\n",
        "def p41b(n):\n",
        "    for p in reversed(pandgitalPrimes):\n",
        "        if p <= n:\n",
        "            print(p)\n",
        "            return\n",
        "    print(-1)"
      ],
      "metadata": {
        "id": "eoed-sRp_s5h"
      },
      "id": "eoed-sRp_s5h",
      "execution_count": null,
      "outputs": []
    },
    {
      "cell_type": "markdown",
      "source": [
        "#Date: 1/2/2023\n",
        "\n",
        "### Project Euler #41: Pandigital Multiples\n",
        "\n",
        "---\n",
        "\n",
        "This one was pretty straightforward. The idea of there being just one test case also works. Could probably have used sorting instead of sets, but oh well, it works."
      ],
      "metadata": {
        "id": "u7b3rMTDNiUc"
      },
      "id": "u7b3rMTDNiUc"
    },
    {
      "cell_type": "code",
      "source": [
        "def p38(n, k):\n",
        "    compare = set([str(x+1) for x in range(k)])\n",
        "\n",
        "    for m in range(2, n):\n",
        "        prod = \"\"\n",
        "        i = 1\n",
        "        while len(prod) < k:\n",
        "            prod += str(m * i)\n",
        "            i += 1\n",
        "\n",
        "        if len(prod) > k:\n",
        "            continue\n",
        "\n",
        "        if set(prod) == compare:\n",
        "            print(m)"
      ],
      "metadata": {
        "id": "gpEKLf-6NihL"
      },
      "id": "gpEKLf-6NihL",
      "execution_count": null,
      "outputs": []
    },
    {
      "cell_type": "markdown",
      "source": [
        "#Date: 1/2/2023\n",
        "\n",
        "### Project Euler #39: Integer Right Triangles\n",
        "\n",
        "---\n",
        "\n",
        "I picked up and refactored the code from problem 9 to get the triplets that add up to n. Moreover, I did the same algorthmic optimisations as problem 14 where you only build the table as per the biggest input and then perform a look-up. However, I am mot entirely sure what is wrong with my code as two test cases are giving wrong answers while three are timing out.\n",
        "\n",
        "_will come back to this_\n",
        "\n",
        "---\n",
        "\n",
        "The above iteration is $O(n)$ for every single n. Will have to reduce the number of repetitions, or like have some kind of multiple things, where it gets counted; will figure it out later.\n",
        "\n",
        "---\n",
        "\n",
        "_will come back to this_"
      ],
      "metadata": {
        "id": "kADq6N3cVrcZ"
      },
      "id": "kADq6N3cVrcZ"
    },
    {
      "cell_type": "code",
      "source": [
        "t = int(input())\n",
        "inp = [0] * t\n",
        "for i in range(t):\n",
        "    inp[i] = int(input())\n",
        "\n",
        "length = max(inp)\n",
        "\n",
        "def pyTripletsCount(n):\n",
        "    count = 0\n",
        "# if even\n",
        "    if n % 2 == 0:\n",
        "    # n//3 because triangle inequality property\n",
        "        for a in range(1, n//3):\n",
        "            b = n * (n - 2*a) // (2*(n - a))\n",
        "            c = n - a - b\n",
        "\n",
        "            # print(a, b, c)\n",
        "            if a*a + b*b == c*c:\n",
        "                count += 1\n",
        "\n",
        "    return count\n",
        "\n",
        "\n",
        "COUNTS = [pyTripletsCount(x) for x in range(length + 1)]\n",
        "\n",
        "\n",
        "def p39(n):\n",
        "    return COUNTS.index(max(COUNTS[:n+1]))\n",
        "\n",
        "\n",
        "for n in inp:\n",
        "    print(p39(n))"
      ],
      "metadata": {
        "id": "rNIv3Y1oVrlr"
      },
      "id": "rNIv3Y1oVrlr",
      "execution_count": null,
      "outputs": []
    },
    {
      "cell_type": "markdown",
      "source": [],
      "metadata": {
        "id": "nCsUBZ_lUMLV"
      },
      "id": "nCsUBZ_lUMLV"
    },
    {
      "cell_type": "markdown",
      "source": [
        "#Date: 1/2/2023\n",
        "\n",
        "### Project Euler #42: Coded Triangle Numbers\n",
        "\n",
        "---\n",
        "\n",
        "Did this in $O(n)$ by using the given sequence formula in the question. The sequence creates a quadratic forumla:  \n",
        "$n^2 + n -2t_n = 0$\n",
        "\n",
        "The above can be solved by the quadratic formula:  \n",
        "$2n = -1 + \\sqrt{1 - 4*1*(-2t_n)}$\n",
        "\n",
        "We skip the negative discriminant term in the quadratic formula because it always give the negative value and we can have negative-th term."
      ],
      "metadata": {
        "id": "P0XrGjbybrS5"
      },
      "id": "P0XrGjbybrS5"
    },
    {
      "cell_type": "code",
      "source": [
        "def p42(t):\n",
        "    n = -1 + (1 + 8*t)**0.5\n",
        "\n",
        "    if not isinstance(n, complex):\n",
        "        if n == int(n):\n",
        "            print(int(n)//2)\n",
        "            return\n",
        "\n",
        "    print(-1)"
      ],
      "metadata": {
        "id": "UhisLhF5brdg"
      },
      "id": "UhisLhF5brdg",
      "execution_count": null,
      "outputs": []
    },
    {
      "cell_type": "markdown",
      "source": [
        "#Date: 3/2/2023\n",
        "\n",
        "### Project Euler #28: Number Spiral Diagonals\n",
        "\n",
        "---\n",
        "\n",
        "Built the quadratic sequence for all the diagonals. This lead to the 1 being added 4 times, so I just subtracted 3.\n",
        "\n",
        "The sequence I found was the $t_n$ of all the diagonals. Then I just did the $\\sum^n_1 t_n$."
      ],
      "metadata": {
        "id": "lkhY7zoQQuWH"
      },
      "id": "lkhY7zoQQuWH"
    },
    {
      "cell_type": "code",
      "source": [
        "def p29(n):\n",
        "    n //= 2\n",
        "    n += 1\n",
        "\n",
        "# 4*n**2 - 4*n + 1\n",
        "    seq1 = 4*n*(n+1)*(2*n + 1)//6 - 4*(n * (n+1)//2) + 1*n\n",
        "\n",
        "# 4*n**2 - 10*n + 7\n",
        "    seq2 = 4*n*(n+1)*(2*n + 1)//6 - 10*(n * (n+1)//2) + 7*n\n",
        "\n",
        "# 4*n**2 - 8*n + 5\n",
        "    seq3 = 4*n*(n+1)*(2*n + 1)//6 - 8*(n * (n+1)//2) + 5*n\n",
        "\n",
        "# 4*n**2 - 6*n + 3\n",
        "    seq4 = 4*n*(n+1)*(2*n + 1)//6 - 6*(n * (n+1)//2) + 3*n\n",
        "\n",
        "    print((seq1 + seq2 + seq3 + seq4 - 3) % (10**9 + 7))"
      ],
      "metadata": {
        "id": "r5Ipv9B0QuqP"
      },
      "id": "r5Ipv9B0QuqP",
      "execution_count": null,
      "outputs": []
    },
    {
      "cell_type": "markdown",
      "source": [
        "#Date: 3/2/2023\n",
        "\n",
        "### Project Euler #43: Sub-String Divisibility\n",
        "\n",
        "---\n",
        "\n",
        "The last case is timing out. I might have to use module now.  \n",
        "NOOOOOOOOO\n",
        "\n",
        "---\n",
        "\n",
        "Had to use itertools.permutations,, the reason this is faster is because the function is a generator. Moreover, the generator uses index slicing which is also faster."
      ],
      "metadata": {
        "id": "ZCRHdKbZTla-"
      },
      "id": "ZCRHdKbZTla-"
    },
    {
      "cell_type": "code",
      "source": [
        "def factoradic(length, n):\n",
        "    ans = [0] * length\n",
        "    i = 1\n",
        "    while n > 0:\n",
        "        ans[length - i] = n % i\n",
        "        n //= i\n",
        "        i += 1\n",
        "\n",
        "    return ans\n",
        "\n",
        "\n",
        "def factorial(i):\n",
        "    ans = 1\n",
        "    for j in range(2, i+1):\n",
        "        ans *= j\n",
        "    return ans\n",
        "\n",
        "\n",
        "def p43(perm: str, length: int) -> int:\n",
        "    PRIMES = [2, 3, 5, 7, 11, 13, 17]\n",
        "\n",
        "    i = 4\n",
        "    prime = 0\n",
        "    while i <= length:\n",
        "        if int(perm[i-3:i]) % PRIMES[prime] == 0:\n",
        "            i += 1\n",
        "            prime += 1\n",
        "        else:\n",
        "            return 0\n",
        "\n",
        "    return int(perm)\n",
        "\n",
        "length = int(input()) + 1\n",
        "\n",
        "\n",
        "Sum = 0\n",
        "\n",
        "builder = [str(x) for x in range(length)]\n",
        "for perm in range(factorial(length)):\n",
        "    word = builder.copy()\n",
        "    ans = \"\"\n",
        "\n",
        "    for d in factoradic(length, perm):\n",
        "        ans += word.pop(d)\n",
        "\n",
        "\n",
        "    Sum += p43(ans, length)\n",
        "\n",
        "\n",
        "print(Sum)"
      ],
      "metadata": {
        "id": "gs3qc6zeTlpr"
      },
      "id": "gs3qc6zeTlpr",
      "execution_count": null,
      "outputs": []
    },
    {
      "cell_type": "code",
      "source": [
        "from itertools import permutations\n",
        "\n",
        "def p43a(perm: str, length: int) -> int:\n",
        "    PRIMES = [2, 3, 5, 7, 11, 13, 17]\n",
        "\n",
        "    i = 4\n",
        "    prime = 0\n",
        "    while i <= length:\n",
        "        if int(perm[i-3:i]) % PRIMES[prime] == 0:\n",
        "            i += 1\n",
        "            prime += 1\n",
        "        else:\n",
        "            return 0\n",
        "\n",
        "    return int(perm)\n",
        "\n",
        "\n",
        "length = int(input()) + 1\n",
        "\n",
        "\n",
        "Sum = 0\n",
        "\n",
        "base = [str(x) for x in range(length)]\n",
        "perm_gen = permutations(base)\n",
        "\n",
        "for perm in perm_gen:\n",
        "    perm_str = \"\".join(perm)\n",
        "    Sum += p43a(perm_str, length)\n",
        "\n",
        "\n",
        "print(Sum)"
      ],
      "metadata": {
        "id": "8vhA9P3PUNX6"
      },
      "id": "8vhA9P3PUNX6",
      "execution_count": null,
      "outputs": []
    },
    {
      "cell_type": "markdown",
      "source": [
        "#Date: 3/2/2023\n",
        "\n",
        "### Project Euler #44: Pentagon Numbers\n",
        "\n",
        "---\n",
        "\n",
        "Used the pentagon number sequence to generate the numbers. Moroever, used the same technique as the one in triangular number to figure out if a number is a pentagon number or not."
      ],
      "metadata": {
        "id": "YszxjmY-t80C"
      },
      "id": "YszxjmY-t80C"
    },
    {
      "cell_type": "code",
      "source": [
        "def PentNum(n):\n",
        "    return (3*n*n - n) >> 1\n",
        "\n",
        "def isPent(p):\n",
        "    n = (1 + (1 + 24*p)**0.5) / 6\n",
        "\n",
        "    if not isinstance(n, complex):\n",
        "        if n == int(n):\n",
        "            return True\n",
        "    return False\n",
        "\n",
        "\n",
        "def p44(n, k):\n",
        "    for term in range(k+1, n):\n",
        "        p_n = PentNum(term)\n",
        "        p_nk = PentNum(term - k)\n",
        "\n",
        "        if isPent(p_n + p_nk):\n",
        "            print(p_n)\n",
        "            continue\n",
        "\n",
        "        if isPent(p_n - p_nk):\n",
        "            print(p_n)\n",
        "            continue"
      ],
      "metadata": {
        "id": "m9K76H0wt8-h"
      },
      "id": "m9K76H0wt8-h",
      "execution_count": null,
      "outputs": []
    },
    {
      "cell_type": "markdown",
      "source": [
        "#Date: 3/2/2023\n",
        "\n",
        "### Project Euler #45: Triangular, Pentagonal and Hexagonal\n",
        "\n",
        "---\n",
        "\n",
        "This essentially uses the same functions and ideas from p42 and p44."
      ],
      "metadata": {
        "id": "rBHcn9sC3S1-"
      },
      "id": "rBHcn9sC3S1-"
    },
    {
      "cell_type": "code",
      "source": [
        "def PentNum(n):\n",
        "    return (3*n*n - n) >> 1\n",
        "\n",
        "def HexNum(n):\n",
        "    return 2*n*n - n\n",
        "\n",
        "def isPent(p):\n",
        "    n = (1 + (1 + 24*p)**0.5) / 6\n",
        "\n",
        "    if not isinstance(n, complex):\n",
        "        if n == int(n):\n",
        "            return True\n",
        "    return False\n",
        "\n",
        "def isTri(t):\n",
        "    n = (-1 + (1 + 8*t)**0.5) / 2\n",
        "    if not isinstance(n, complex):\n",
        "        if n == int(n):\n",
        "            return True\n",
        "    return False\n",
        "\n",
        "def p45(a, b, n):\n",
        "    i = 1\n",
        "\n",
        "    if b == 6:\n",
        "        while True:\n",
        "            h = HexNum(i)\n",
        "            if h >= n:\n",
        "                return\n",
        "\n",
        "            if isPent(h):\n",
        "                print(h)\n",
        "\n",
        "            i += 1\n",
        "\n",
        "    if b == 5:\n",
        "        while True:\n",
        "            p = PentNum(i)\n",
        "            if p >= n:\n",
        "                return\n",
        "\n",
        "            if isTri(p):\n",
        "                print(p)\n",
        "\n",
        "            i += 1"
      ],
      "metadata": {
        "id": "rhS5In473S-E"
      },
      "id": "rhS5In473S-E",
      "execution_count": null,
      "outputs": []
    },
    {
      "cell_type": "markdown",
      "source": [
        "#Date: 9/2/2023\n",
        "\n",
        "### Project Euler #46: Goldbach's Other Conjecture\n",
        "\n",
        "---\n",
        "\n",
        "This was a relatively straightfoward problem. Just built all the square numbers at start, probably dont even need to do that. Could make it in the while loop and make it act like a geometric series terms, however my firstnaive approach ended up working."
      ],
      "metadata": {
        "id": "F9uFvo_raucW"
      },
      "id": "F9uFvo_raucW"
    },
    {
      "cell_type": "code",
      "source": [
        "def isPrime(n):\n",
        "    if n < 2:\n",
        "        return False\n",
        "    for i in range(2, int(n**(0.5))+1):\n",
        "        if n % i == 0:\n",
        "            return False\n",
        "    return True\n",
        "\n",
        "SQUARES2 = [2*(x**2) for x in range(500)]\n",
        "\n",
        "def p46(n):\n",
        "    count = 0\n",
        "    for s in SQUARES2:\n",
        "        if s > n:\n",
        "            break\n",
        "\n",
        "        if isPrime(n - s):\n",
        "            count += 1\n",
        "\n",
        "    print(count)"
      ],
      "metadata": {
        "id": "F6HKbpkLauo7"
      },
      "id": "F6HKbpkLauo7",
      "execution_count": null,
      "outputs": []
    },
    {
      "cell_type": "code",
      "source": [],
      "metadata": {
        "id": "DP6rP2OJpl-a"
      },
      "id": "DP6rP2OJpl-a",
      "execution_count": null,
      "outputs": []
    },
    {
      "cell_type": "markdown",
      "source": [
        "#Date: 9/2/2023\n",
        "\n",
        "### Project Euler #48: Self Powers\n",
        "\n",
        "---\n",
        "\n",
        "The first iteration did it the naive method, add up all the numbers, convert it to string and then pull the last 10 digits (excluding leading 0s)\n",
        "\n",
        "---\n",
        "\n",
        "Considering we can get the last ten digits by doing modulus by 10^10, we can just do it that for every iteration.\n",
        "Add them up and then modulus the final answer by 10^10\n",
        "\n",
        "\n",
        "---\n",
        "\n",
        "Turns out the pow() in-built function has a third argument available that takes the modulus thing. Moreover, the documentation (IntelliSense) suggests that adding the third argumnet will make the function switch to a faster algorithm.\n",
        "\n",
        "^ The algorithm uses bit manipulation, making it much faster. It is also written in C, which helps."
      ],
      "metadata": {
        "id": "O9ZS7eDomV-v"
      },
      "id": "O9ZS7eDomV-v"
    },
    {
      "cell_type": "code",
      "source": [
        "def p48(n):\n",
        "    Sum = 0\n",
        "    for x in range(n):\n",
        "        Sum += (x+1)**(x+1)\n",
        "\n",
        "    SUM = str(Sum)\n",
        "    print(int(SUM[len(SUM) - 10:]))"
      ],
      "metadata": {
        "id": "b2k2zfVDoqnQ"
      },
      "id": "b2k2zfVDoqnQ",
      "execution_count": null,
      "outputs": []
    },
    {
      "cell_type": "code",
      "source": [
        "def p48a(n):\n",
        "    Sum = 0\n",
        "    for x in range(n):\n",
        "        Sum += (x+1)**(x+1) % 10**10\n",
        "\n",
        "    print(Sum % 10**10)"
      ],
      "metadata": {
        "id": "KfkfWUhemWNa"
      },
      "id": "KfkfWUhemWNa",
      "execution_count": null,
      "outputs": []
    },
    {
      "cell_type": "code",
      "source": [
        "def p48b(n):\n",
        "    Sum = 0\n",
        "    for x in range(n):\n",
        "        Sum += pow(x+1, x+1, 10**10)\n",
        "\n",
        "    print(Sum % 10**10)"
      ],
      "metadata": {
        "id": "20tZFdpeon_X"
      },
      "id": "20tZFdpeon_X",
      "execution_count": null,
      "outputs": []
    },
    {
      "cell_type": "markdown",
      "source": [
        "#Date: 16/2/2023\n",
        "\n",
        "### Project Euler #47: Distinct Prime Factors\n",
        "---\n",
        "The first iterations has multiple timeouts, it has to calculate the prime factors multiple times for a given number. This leads to a lot of unnecessary computation.\n",
        "\n",
        "---\n",
        "\n",
        "Another insight I had was that I only need the number of prime factors (I was operating under a different assumption that made me take way to long for this); which leadd me to calculate all of it in advance and then just pull from that array.\n"
      ],
      "metadata": {
        "id": "njT8Wrm7sC8x"
      },
      "id": "njT8Wrm7sC8x"
    },
    {
      "cell_type": "code",
      "source": [
        "n, k = [int(x) for x in input().split()]\n",
        "\n",
        "\n",
        "def Primes(n):\n",
        "    primes = [True] * (n + 1)\n",
        "\n",
        "    primes[0] = primes[1] = False\n",
        "\n",
        "    for i in range(2, int(n**(0.5))+1):\n",
        "        if primes[i]:\n",
        "            for j in range(i*i, n+1, i):\n",
        "                primes[j] = False\n",
        "\n",
        "    return [x for x in range(n+1) if primes[x]]\n",
        "\n",
        "\n",
        "PRIMES = Primes(n)\n",
        "\n",
        "def prime_factors(n):\n",
        "    factors = []\n",
        "    for prime in PRIMES:\n",
        "        if prime > n:\n",
        "            break\n",
        "        while n % prime == 0:\n",
        "            factors.append(prime)\n",
        "            n /= prime\n",
        "    if n > 1:\n",
        "        factors.append(int(n))\n",
        "\n",
        "    return list(set(factors))\n",
        "\n",
        "\n",
        "\n",
        "def p47(n, k):\n",
        "    for num in range(10, n+1):\n",
        "        valid = True\n",
        "        for i in range(k):\n",
        "            if len(prime_factors(num + i)) != k:\n",
        "                valid = False\n",
        "                break\n",
        "\n",
        "        if valid:\n",
        "            print(num)\n",
        "\n",
        "\n",
        "p47(n, k)\n"
      ],
      "metadata": {
        "id": "S0Eu71Zvtw1c"
      },
      "id": "S0Eu71Zvtw1c",
      "execution_count": null,
      "outputs": []
    },
    {
      "cell_type": "code",
      "source": [
        "n, k = [int(x) for x in input().split()]\n",
        "\n",
        "\n",
        "def prime_factor_counts(n):\n",
        "    factor_counts = [0] * (n + 1)\n",
        "\n",
        "    for i in range(2, n + 1):\n",
        "        if factor_counts[i] == 0:\n",
        "            for j in range(i, n + 1, i):\n",
        "                factor_counts[j] += 1\n",
        "\n",
        "    return factor_counts\n",
        "\n",
        "FACTORS = prime_factor_counts(n + k)\n",
        "\n",
        "\n",
        "def p47a(n, k):\n",
        "    for num in range(10, n+1):\n",
        "        valid = True\n",
        "        for i in range(k):\n",
        "            if FACTORS[num + i] != k:\n",
        "                valid = False\n",
        "                break\n",
        "\n",
        "        if valid:\n",
        "            print(num)\n"
      ],
      "metadata": {
        "id": "OD6LhXguuLUG"
      },
      "id": "OD6LhXguuLUG",
      "execution_count": null,
      "outputs": []
    },
    {
      "cell_type": "markdown",
      "source": [
        "#Date: 16/2/2023\n",
        "\n",
        "### Project Euler #50: Consecutive Prime Sum\n",
        "\n",
        "---\n",
        "\n",
        "The first iteration calculates multiple consecutive prime sums, where it starts from 2, and then starting from 3 and so on. It stores all the consecutive prime sums and their lengths. This is timing out. We can do it in a way where the the consecutive calculation should have a length above the current maximum.\n",
        "\n",
        "---\n",
        "\n",
        "_will come back to this_\n"
      ],
      "metadata": {
        "id": "NKxP4GXkVMqP"
      },
      "id": "NKxP4GXkVMqP"
    },
    {
      "cell_type": "code",
      "source": [
        "def Primes(n):\n",
        "    primes = [True] * (n + 1)\n",
        "    primes[0] = primes[1] = False\n",
        "\n",
        "    for i in range(2, int(n ** 0.5) + 1):\n",
        "        if primes[i]:\n",
        "            for j in range(i**2, n+1, i):\n",
        "                primes[j] = False\n",
        "\n",
        "    return [i for i, x in enumerate(primes) if x]\n",
        "\n",
        "\n",
        "PRIMES = Primes(10**7)\n",
        "\n",
        "def isPrime(n):\n",
        "    if n < 2:\n",
        "        return False\n",
        "    for i in range(2, int(n**(0.5))+1):\n",
        "        if n % i == 0:\n",
        "            return False\n",
        "    return True\n",
        "\n",
        "\n",
        "def p50(n):\n",
        "    i = 1\n",
        "    Sums = []\n",
        "    while i < 35:\n",
        "        Sum = 0\n",
        "        SUM = 0\n",
        "        Count = 0\n",
        "        for idx in range(i-1, len(PRIMES)):\n",
        "            if Sum + PRIMES[idx] > n:\n",
        "                break\n",
        "\n",
        "            Sum += PRIMES[idx]\n",
        "            # print(Sum)\n",
        "\n",
        "            if isPrime(Sum):\n",
        "                SUM = Sum\n",
        "                Count = idx + 1\n",
        "\n",
        "        Count -= (i - 1)\n",
        "\n",
        "        Sums.append((SUM, Count))\n",
        "        i += 1\n",
        "\n",
        "    ans_s, ans_c = max(Sums, key=lambda a: a[1])\n",
        "    print(ans_s, ans_c)\n",
        "\n",
        "\n",
        "\n",
        "t = int(input())\n",
        "for _ in range(t):\n",
        "    p50(int(input()))"
      ],
      "metadata": {
        "id": "LTfQot30VMy8"
      },
      "id": "LTfQot30VMy8",
      "execution_count": null,
      "outputs": []
    },
    {
      "cell_type": "markdown",
      "source": [
        "#Date: 16/2/2023\n",
        "\n",
        "### Project Euler #53: Combinatoric Selections\n",
        "\n",
        "---\n",
        "\n",
        "This one was relatively easy, I have given up. Will be using in-built python modules everywhere I can now. The first iteration was a brute-forec method.\n",
        "\n",
        "---\n",
        "\n",
        "The second one is just one small change, it works because of the symmetry of $n \\choose r$, which reduces the amount of iterations by at least half."
      ],
      "metadata": {
        "id": "Bydp1waN4xx3"
      },
      "id": "Bydp1waN4xx3"
    },
    {
      "cell_type": "code",
      "source": [
        "from math import factorial\n",
        "\n",
        "def p53(n, k):\n",
        "    count = 0\n",
        "    for i in range(n+1):\n",
        "        for r in range(i+1):\n",
        "            ncr = factorial(i)//(factorial(r) * factorial(i-r))\n",
        "            if ncr > k:\n",
        "                count += 1\n",
        "    print(count)\n"
      ],
      "metadata": {
        "id": "qx52g5bL5rqU"
      },
      "id": "qx52g5bL5rqU",
      "execution_count": null,
      "outputs": []
    },
    {
      "cell_type": "code",
      "source": [
        "from math import factorial\n",
        "\n",
        "def p53a(n, k):\n",
        "    count = 0\n",
        "    for i in range(n+1):\n",
        "        for r in range(i//2 + 1):\n",
        "            ncr = factorial(i)//(factorial(r) * factorial(i-r))\n",
        "            if ncr > k:\n",
        "                if r*2 != i:\n",
        "                    count += 2\n",
        "                else:\n",
        "                    count += 1\n",
        "    print(count)\n"
      ],
      "metadata": {
        "id": "Ujy6YSmu4yAT"
      },
      "id": "Ujy6YSmu4yAT",
      "execution_count": null,
      "outputs": []
    },
    {
      "cell_type": "markdown",
      "source": [
        "#Date: 16/2/2023\n",
        "\n",
        "### Project Euler #52: Permuted Multiples\n",
        "\n",
        "---\n",
        "\n",
        "I had honestly not accepted this one to work entirely. I will take it."
      ],
      "metadata": {
        "id": "krArST-g9ZBF"
      },
      "id": "krArST-g9ZBF"
    },
    {
      "cell_type": "code",
      "source": [
        "def p52(n, k):\n",
        "    for num in range(1, n+1):\n",
        "        valid = True\n",
        "        num_digits = list(str(num))\n",
        "        # print(num_digits)\n",
        "        for i in range(2, k+1):\n",
        "            NUM_digits = list(str(num*i))\n",
        "            if sorted(num_digits) != sorted(NUM_digits):\n",
        "                valid = False\n",
        "                break\n",
        "\n",
        "        if valid:\n",
        "            ans = [(num * i) for i in range(1, k+1)]\n",
        "            print(*ans, sep=' ')\n"
      ],
      "metadata": {
        "id": "9zw9rrhG9ZP3"
      },
      "id": "9zw9rrhG9ZP3",
      "execution_count": null,
      "outputs": []
    },
    {
      "cell_type": "markdown",
      "source": [
        "#Date: 16/2/2023\n",
        "\n",
        "### Project Euler #54: Poker Hands\n",
        "\n",
        "---\n",
        "\n",
        "Took way too long, never want to do that again\n"
      ],
      "metadata": {
        "id": "FlcYa7fCcHt9"
      },
      "id": "FlcYa7fCcHt9"
    },
    {
      "cell_type": "code",
      "source": [
        "HAND = [\"HighCard\", \"OnePair\", \"TwoPair\", \"ThreeKind\", \"Straight\",\n",
        "         \"Flush\", \"FullHouse\", \"FourKind\", \"StraightFlush\",\n",
        "         \"RoyalFlush\"]\n",
        "\n",
        "FaceNum = {\n",
        "    'T': 10,\n",
        "    'J': 11,\n",
        "    'Q': 12,\n",
        "    'K': 13,\n",
        "    'A': 14\n",
        "}\n",
        "\n",
        "def SuitsHand(p):\n",
        "    suits = []\n",
        "    for card in p:\n",
        "        suits.append(card[1])\n",
        "    return suits\n",
        "\n",
        "def NumHand(p):\n",
        "    nums = []\n",
        "    for card in p:\n",
        "        if card[0] in FaceNum:\n",
        "            nums.append(FaceNum[card[0]])\n",
        "        else:\n",
        "            nums.append(int(card[0]))\n",
        "    nums.sort()\n",
        "\n",
        "    nums = [1, 2, 3, 4, 5] if nums == [2, 3, 4, 5, 14] else nums\n",
        "    return nums\n",
        "\n",
        "def TypeHand(p: list) -> str:\n",
        "    suits = SuitsHand(p)\n",
        "    nums = NumHand(p)\n",
        "\n",
        "    isConsecutive = (nums == list(range(min(nums), max(nums) + 1)))\n",
        "    # print(nums)\n",
        "    sameSuit = len(list(set(suits))) == 1\n",
        "\n",
        "    if not isConsecutive and not sameSuit:\n",
        "        numsCheck = set(nums)\n",
        "        if len(numsCheck) == 5:\n",
        "            return \"HighCard\"\n",
        "        if len(numsCheck) == 4:\n",
        "            return \"OnePair\"\n",
        "        if len(numsCheck) == 3:\n",
        "            check = all(nums.count(num) <= 2 for num in nums)\n",
        "            if check:\n",
        "                return \"TwoPair\"\n",
        "            else:\n",
        "                return \"ThreeKind\"\n",
        "        if len(numsCheck) == 2:\n",
        "            check = all(nums.count(num) <= 3 for num in nums)\n",
        "            if check:\n",
        "                return \"FullHouse\"\n",
        "            else:\n",
        "                return \"FourKind\"\n",
        "\n",
        "    if isConsecutive and not sameSuit:\n",
        "        return \"Straight\"\n",
        "\n",
        "    if not isConsecutive and sameSuit:\n",
        "        numsCheck = set(nums)\n",
        "        if len(numsCheck) == 2:\n",
        "            check = all(nums.count(num) <= 3 for num in nums)\n",
        "            if check:\n",
        "                return \"FullHouse\"\n",
        "            else:\n",
        "                return \"FourKind\"\n",
        "\n",
        "        return \"Flush\"\n",
        "\n",
        "    if isConsecutive and sameSuit:\n",
        "        if sum(nums) != 60:\n",
        "            return \"StraightFlush\"\n",
        "        else:\n",
        "            return \"RoyalFlush\"\n",
        "\n",
        "\n",
        "\n",
        "def p54(p1, p2):\n",
        "    p1Nums = NumHand(p1)\n",
        "    p1Suits = SuitsHand(p1)\n",
        "    p1Hand = TypeHand(p1)\n",
        "\n",
        "    p2Nums = NumHand(p2)\n",
        "    p2Suits = SuitsHand(p2)\n",
        "    p2Hand = TypeHand(p2)\n",
        "\n",
        "    # print(p1Hand, p2Hand)\n",
        "\n",
        "    if HAND.index(p1Hand) > HAND.index(p2Hand):\n",
        "        return \"Player 1\"\n",
        "    elif HAND.index(p1Hand) < HAND.index(p2Hand):\n",
        "        return \"Player 2\"\n",
        "\n",
        "# the types of hand are the same from here on out\n",
        "    if p1Hand == \"RoyalFlush\":\n",
        "        return \"Tied\"\n",
        "\n",
        "\n",
        "    if p1Hand == \"StraightFlush\":\n",
        "        if sum(p1Nums) > sum(p2Nums):\n",
        "            return \"Player 1\"\n",
        "        elif sum(p1Nums) < sum(p2Nums):\n",
        "            return \"Player 2\"\n",
        "        else:\n",
        "            return \"Tied\"\n",
        "\n",
        "\n",
        "    if p1Hand == \"FourKind\":\n",
        "        for num1 in p1Nums:\n",
        "            if p1Nums.count(num1) == 4:\n",
        "                break\n",
        "\n",
        "        for num2 in p2Nums:\n",
        "            if p2Nums.count(num2) == 4:\n",
        "                break\n",
        "\n",
        "        if num1 > num2:\n",
        "            return \"Player 1\"\n",
        "        elif num1 < num2:\n",
        "            return \"Player 2\"\n",
        "        else:\n",
        "            if sum(p1Nums) > sum(p2Nums):\n",
        "                return \"Player 1\"\n",
        "            elif sum(p1Nums) < sum(p2Nums):\n",
        "                return \"Player 2\"\n",
        "            else:\n",
        "                return \"Tied\"\n",
        "\n",
        "\n",
        "    if p1Hand == \"FullHouse\":\n",
        "        for num in p1Nums:\n",
        "            if p1Nums.count(num) == 3:\n",
        "                num13 = num\n",
        "            if p1Nums.count(num) == 2:\n",
        "                num12 = num\n",
        "\n",
        "        for num in p2Nums:\n",
        "            if p2Nums.count(num) == 3:\n",
        "                num23 = num\n",
        "            if p2Nums.count(num) == 2:\n",
        "                num22 = num\n",
        "\n",
        "        if num13 > num23:\n",
        "            return \"Player 1\"\n",
        "        elif num13 < num23:\n",
        "            return \"Player 2\"\n",
        "        else:\n",
        "            if num12 > num22:\n",
        "                return \"Player 1\"\n",
        "            elif num12 < num22:\n",
        "                return \"Player 2\"\n",
        "            else:\n",
        "                return \"Tied\"\n",
        "\n",
        "\n",
        "    if p1Hand == \"Flush\":\n",
        "        for i in range(4, -1, -1):\n",
        "            if p1Nums[i] > p2Nums[i]:\n",
        "                return \"Player 1\"\n",
        "            elif p1Nums[i] < p2Nums[i]:\n",
        "                return \"Player 2\"\n",
        "        return \"Tied\"\n",
        "\n",
        "\n",
        "    if p1Hand == \"Straight\":\n",
        "        if sum(p1Nums) > sum(p2Nums):\n",
        "            return \"Player 1\"\n",
        "        elif sum(p1Nums) < sum(p2Nums):\n",
        "            return \"Player 2\"\n",
        "        else:\n",
        "            return \"Tied\"\n",
        "\n",
        "\n",
        "    if p1Hand == \"ThreeKind\":\n",
        "        num1_1 = []\n",
        "        for num in p1Nums:\n",
        "            if p1Nums.count(num) == 3:\n",
        "                num13 = num\n",
        "            if p1Nums.count(num) == 1:\n",
        "                num1_1.append(num)\n",
        "\n",
        "        num2_1 = []\n",
        "        for num in p2Nums:\n",
        "            if p2Nums.count(num) == 3:\n",
        "                num23 = num\n",
        "            if p2Nums.count(num) == 1:\n",
        "                num2_1.append(num)\n",
        "\n",
        "        if num13 > num23:\n",
        "            return \"Player 1\"\n",
        "        elif num13 < num23:\n",
        "            return \"Player 2\"\n",
        "        else:\n",
        "            for i in range(1, -1, -1):\n",
        "                if num1_1[i] > num2_1[i]:\n",
        "                    return \"Player 1\"\n",
        "                elif num1_1[i] < num2_1[i]:\n",
        "                    return \"Player 2\"\n",
        "            return \"Tied\"\n",
        "\n",
        "\n",
        "    if p1Hand == \"TwoPair\":\n",
        "        num1_2 = []\n",
        "        for num in p1Nums:\n",
        "            if p1Nums.count(num) == 2:\n",
        "                num1_2.append(num)\n",
        "\n",
        "        num2_2 = []\n",
        "        for num in p2Nums:\n",
        "            if p2Nums.count(num) == 2:\n",
        "                num2_2.append(num)\n",
        "\n",
        "        # print(num1_2, num2_2)\n",
        "        for i in range(3, 0, -2):\n",
        "            if num1_2[i] > num2_2[i]:\n",
        "                return \"Player 1\"\n",
        "            elif num1_2[i] < num2_2[i]:\n",
        "                return \"Player 2\"\n",
        "        if sum(p1Nums) > sum(p2Nums):\n",
        "            return \"Player 1\"\n",
        "        elif sum(p1Nums) < sum(p2Nums):\n",
        "            return \"Player 2\"\n",
        "        else:\n",
        "            return \"Tied\"\n",
        "\n",
        "\n",
        "    if p1Hand == \"OnePair\":\n",
        "        num1_1 = []\n",
        "        for num in p1Nums:\n",
        "            if p1Nums.count(num) == 2:\n",
        "                num12 = num\n",
        "            if p1Nums.count(num) == 1:\n",
        "                num1_1.append(num)\n",
        "\n",
        "        num2_1 = []\n",
        "        for num in p2Nums:\n",
        "            if p2Nums.count(num) == 2:\n",
        "                num22 = num\n",
        "            if p2Nums.count(num) == 1:\n",
        "                num2_1.append(num)\n",
        "\n",
        "        # print(num1_1, num2_1)\n",
        "        if num12 > num22:\n",
        "            return \"Player 1\"\n",
        "        elif num12 < num22:\n",
        "            return \"Player 2\"\n",
        "        else:\n",
        "            for i in range(2, -1, -1):\n",
        "                if num1_1[i] > num2_1[i]:\n",
        "                    return \"Player 1\"\n",
        "                elif num1_1[i] < num2_1[i]:\n",
        "                    return \"Player 2\"\n",
        "            return \"Tied\"\n",
        "\n",
        "\n",
        "    if p1Hand == \"HighCard\":\n",
        "        for i in range(4, -1, -1):\n",
        "            if p1Nums[i] > p2Nums[i]:\n",
        "                return \"Player 1\"\n",
        "            elif p1Nums[i] < p2Nums[i]:\n",
        "                return \"Player 2\"\n",
        "        return \"Tied\"\n",
        "\n",
        "\n",
        "t = int(input())\n",
        "for _ in range(t):\n",
        "    deal = input().split()\n",
        "    p1 = deal[:5]\n",
        "    p2 = deal[5:]\n",
        "    print(p54(p1, p2))\n"
      ],
      "metadata": {
        "id": "Eg7NtibccH4V"
      },
      "id": "Eg7NtibccH4V",
      "execution_count": null,
      "outputs": []
    },
    {
      "cell_type": "markdown",
      "source": [
        "#Date: 17/2/2023\n",
        "\n",
        "### Project Euler #55: Lychrel Numbers\n",
        "\n",
        "---\n",
        "\n",
        "First iteration is incredibly slow. It has a while loop in the middle that will do a lot of unnecessary recalculations.  \n",
        "There is just a lot of algorithmic optimisations I can do.\n",
        "\n",
        "---\n",
        "\n",
        "Turns out, didnt have to do a lot of optimisations; just re-read the question and added the extra constraints (and removed a constraint) to make it work."
      ],
      "metadata": {
        "id": "XzpwglaFh7VQ"
      },
      "id": "XzpwglaFh7VQ"
    },
    {
      "cell_type": "code",
      "source": [
        "def isPalindrome(n: int) -> bool:\n",
        "    return str(n) == str(n)[::-1]\n",
        "\n",
        "\n",
        "def ReverseNum(n: int) -> int:\n",
        "    return int(str(n)[::-1])\n",
        "\n",
        "\n",
        "def p55(n):\n",
        "    Palindrome = {x: 1 for x in range(1, n+1) if isPalindrome(x)}\n",
        "    for i in range(1, n):\n",
        "        if isPalindrome(i):\n",
        "            continue\n",
        "        num = i\n",
        "        while True:\n",
        "            num += ReverseNum(num)\n",
        "            if isPalindrome(num):\n",
        "                try:\n",
        "                    Palindrome[num] += 1\n",
        "                except:\n",
        "                    pass\n",
        "                break\n",
        "    ans = max(Palindrome, key=lambda a: Palindrome[a])\n",
        "    print(ans, Palindrome[ans])"
      ],
      "metadata": {
        "id": "cVHLWDXCh7nl"
      },
      "id": "cVHLWDXCh7nl",
      "execution_count": null,
      "outputs": []
    },
    {
      "cell_type": "code",
      "source": [
        "def isPalindrome(n: int) -> bool:\n",
        "    return str(n) == str(n)[::-1]\n",
        "\n",
        "\n",
        "def ReverseNum(n: int) -> int:\n",
        "    return int(str(n)[::-1])\n",
        "\n",
        "\n",
        "def p55(n):\n",
        "    Palindrome = {x: 1 for x in range(1, n+1) if isPalindrome(x)}\n",
        "    for i in range(1, n):\n",
        "        if isPalindrome(i):\n",
        "            continue\n",
        "        num = i\n",
        "        iter_count = 0\n",
        "        while iter_count < 60:\n",
        "            num += ReverseNum(num)\n",
        "            iter_count += 1\n",
        "            if isPalindrome(num):\n",
        "                try:\n",
        "                    Palindrome[num] += 1\n",
        "                except:\n",
        "                    Palindrome[num] = 1\n",
        "                break\n",
        "            iter_count += 1\n",
        "\n",
        "    ans = max(Palindrome, key=lambda a: Palindrome[a])\n",
        "    print(ans, Palindrome[ans])"
      ],
      "metadata": {
        "id": "EY7j6Wb2kpAf"
      },
      "id": "EY7j6Wb2kpAf",
      "execution_count": null,
      "outputs": []
    },
    {
      "cell_type": "markdown",
      "source": [
        "#Date: 17/2/2023\n",
        "\n",
        "### Project Euler #56: Powerful Digit Sums\n",
        "\n",
        "---\n",
        "\n",
        "I thought I would have to solve problem 29 before attempting this, but oh well, I can procrastinate that a little bit longer."
      ],
      "metadata": {
        "id": "B7-g7xRemtjN"
      },
      "id": "B7-g7xRemtjN"
    },
    {
      "cell_type": "code",
      "source": [
        "def p56(n):\n",
        "    Max = 0\n",
        "    for a in range(1, n):\n",
        "        for b in range(1, n):\n",
        "            num = str(a**b)\n",
        "            Sum = sum([int(x) for x in num])\n",
        "            Max = Sum if Sum > Max else Max\n",
        "    print(Max)"
      ],
      "metadata": {
        "id": "vv81ayosmtuF"
      },
      "id": "vv81ayosmtuF",
      "execution_count": null,
      "outputs": []
    },
    {
      "cell_type": "markdown",
      "source": [
        "#Date: 17/2/2023\n",
        "\n",
        "### Project Euler #57: Square Root Convergents\n",
        "\n",
        "---\n",
        "\n",
        "This wasnt an easy problem, I just tried to find some pattern, any pattern to make sure that I dont have to write a recursive function for the fraction calculation. This helped, because the pattern itself is recursive, because it depends upon the previous term.  \n",
        "$N_i = N_{i-1} + 2*D_{i-1}$  \n",
        "$D_i = N_{i-1} + D_{i-1}$\n",
        "\n",
        "It took me a little too much time to thibk that denominator might be useful for numerator calculations and vice versa."
      ],
      "metadata": {
        "id": "xa6Vso8gTbHy"
      },
      "id": "xa6Vso8gTbHy"
    },
    {
      "cell_type": "code",
      "source": [
        "def p57(n):\n",
        "    curr_n = 1\n",
        "    curr_d = 1\n",
        "    for i in range(1, n+1):\n",
        "        temp = curr_n\n",
        "        curr_n += 2*curr_d\n",
        "        curr_d += temp\n",
        "\n",
        "        # print(curr_n, '/', curr_d)\n",
        "        if len(str(curr_n)) > len(str(curr_d)):\n",
        "            print(i)\n"
      ],
      "metadata": {
        "id": "T6LVFifGqBHt"
      },
      "id": "T6LVFifGqBHt",
      "execution_count": null,
      "outputs": []
    },
    {
      "cell_type": "markdown",
      "source": [
        "#Date: 17/2/2023\n",
        "\n",
        "### Project Euler #58: Spiral Primes\n",
        "\n",
        "---\n",
        "\n",
        "I thought this would be easy, because of a previous problem we have done that has a same structure. What even is a Miller-Rabin primality test; like I barely understood the algorithm and how it works,,, will go back to the algorithm when I am more awake.\n",
        "\n",
        "---\n",
        "\n",
        "Implemented the miller-rabin algorithm, it allowed me to get through two test cases. I am so tired right now"
      ],
      "metadata": {
        "id": "VEF-gkwr4twa"
      },
      "id": "VEF-gkwr4twa"
    },
    {
      "cell_type": "code",
      "source": [
        "def isPrime(n):\n",
        "    if n < 2:\n",
        "        return False\n",
        "\n",
        "    for i in range(2, int(n**(0.5))+1):\n",
        "        if n % i == 0:\n",
        "            return False\n",
        "    return True\n",
        "\n",
        "\n",
        "def p58(n):\n",
        "    spiralPrimes = 0\n",
        "    sideLength = 1\n",
        "    diagonals = 1\n",
        "    while True:\n",
        "        sideLength += 2\n",
        "        diagonals += 4\n",
        "\n",
        "        lowerRight = sideLength ** 2\n",
        "        lowerLeft = lowerRight - (sideLength - 1)\n",
        "        upperLeft = lowerLeft - (sideLength - 1)\n",
        "        upperRight = upperLeft - (sideLength - 1)\n",
        "\n",
        "        if isPrime(lowerRight):\n",
        "            spiralPrimes += 1\n",
        "        if isPrime(upperRight):\n",
        "            spiralPrimes += 1\n",
        "        if isPrime(lowerLeft):\n",
        "            spiralPrimes += 1\n",
        "        if isPrime(upperLeft):\n",
        "            spiralPrimes += 1\n",
        "\n",
        "        if (spiralPrimes*100/diagonals) < n:\n",
        "            break\n",
        "\n",
        "    print(sideLength)\n",
        "\n",
        "p58(int(input()))\n"
      ],
      "metadata": {
        "id": "W7UusHu161nJ"
      },
      "id": "W7UusHu161nJ",
      "execution_count": null,
      "outputs": []
    },
    {
      "cell_type": "code",
      "source": [
        "from random import randint\n",
        "\n",
        "def isPrime_MR(n, k=5):\n",
        "    if n == 2 or n == 3:\n",
        "        return True\n",
        "    if n == 1 or n % 2 == 0:\n",
        "        return False\n",
        "\n",
        "    r = 0\n",
        "    d = n-1\n",
        "    while d % 2 == 0:\n",
        "        d //= 2\n",
        "        r += 1\n",
        "\n",
        "    for i in range(k):\n",
        "        a = randint(2, n-2)\n",
        "        x = pow(a, d, n)\n",
        "        if x == 1 or x == n-1:\n",
        "            continue\n",
        "        for j in range(r-1):\n",
        "            x = pow(x, 2, n)\n",
        "            if x == n-1:\n",
        "                break\n",
        "        else:\n",
        "            return False\n",
        "    return True\n",
        "\n",
        "\n",
        "def p58a(n):\n",
        "    spiralPrimes = 0\n",
        "    sideLength = 1\n",
        "    diagonals = 1\n",
        "\n",
        "    while True:\n",
        "        sideLength += 2\n",
        "        diagonals += 4\n",
        "\n",
        "        lowerRight = sideLength ** 2\n",
        "        lowerLeft = lowerRight - (sideLength - 1)\n",
        "        upperLeft = lowerLeft - (sideLength - 1)\n",
        "        upperRight = upperLeft - (sideLength - 1)\n",
        "\n",
        "        # if isPrime(lowerRight):\n",
        "        #     spiralPrimes += 1\n",
        "        if isPrime_MR(upperRight):\n",
        "            spiralPrimes += 1\n",
        "        if isPrime_MR(lowerLeft):\n",
        "            spiralPrimes += 1\n",
        "        if isPrime_MR(upperLeft):\n",
        "            spiralPrimes += 1\n",
        "\n",
        "        if (spiralPrimes*100/diagonals) < n:\n",
        "            break\n",
        "\n",
        "    print(sideLength)\n",
        "\n",
        "p58(int(input()))"
      ],
      "metadata": {
        "id": "e7c0Jlpz4t8z"
      },
      "id": "e7c0Jlpz4t8z",
      "execution_count": null,
      "outputs": []
    },
    {
      "cell_type": "markdown",
      "source": [
        "#Date: 17/2/2023\n",
        "\n",
        "### Project Euler #59: XOR Decryption\n",
        "\n",
        "---\n",
        "\n",
        "This was such a fun problem, was not expecting it to work in the first try. I am so glad I started using standard python libraries.  \n",
        "I just brute-forced through the passwords, and as soon as I decrpyt something that is not part of the constraints, it moved on to the next password. This is not essecntially the correct way to do it, but oh boy, it worked in the first time."
      ],
      "metadata": {
        "id": "A1dUiJ045VTd"
      },
      "id": "A1dUiJ045VTd"
    },
    {
      "cell_type": "code",
      "source": [
        "_ = input()\n",
        "msg = [int(x) for x in input().split()]\n",
        "\n",
        "digits = list(range(48, 58))\n",
        "cap_letters = list(range(65, 91))\n",
        "small_letters = list(range(97, 123))\n",
        "special = [32, 33, 39, 40, 41, 44, 45, 46, 58, 59, 63]\n",
        "\n",
        "allowed = digits + cap_letters + small_letters + special\n",
        "\n",
        "\n",
        "# essentially a nicer nested for loop (more optimised than mine)\n",
        "from itertools import product\n",
        "\n",
        "def p59(msg):\n",
        "    for pwd in product(small_letters, repeat=3):\n",
        "        i = 0\n",
        "        valid = True\n",
        "        for encrypt in msg:\n",
        "            decrypt = encrypt ^ pwd[i%3]\n",
        "            if decrypt not in allowed:\n",
        "                valid = False\n",
        "                break\n",
        "            i += 1\n",
        "\n",
        "        if valid:\n",
        "            return \"\".join(chr(x) for x in pwd)"
      ],
      "metadata": {
        "id": "vULWfAH_5VcF"
      },
      "id": "vULWfAH_5VcF",
      "execution_count": null,
      "outputs": []
    },
    {
      "cell_type": "markdown",
      "source": [
        "#Date: 1/3/2023\n",
        "\n",
        "### Project Euler 67: Maximum Path Sum II\n",
        "\n",
        "---\n",
        "\n",
        "This is a problem that we have done before. Therefore just implemented it again, just a lot more cleaner looking because of the amount of python we have done. This is $O(1)$ in space as it finds the maximum path in place but is destructive to the triangular tree that is passed as an argument. However, it can have a memory complexity of $O(n)$ if we make a copy to preserve the original tree.  \n",
        "Time complexity is $O(n)$."
      ],
      "metadata": {
        "id": "li5h3yYAw7zR"
      },
      "id": "li5h3yYAw7zR"
    },
    {
      "cell_type": "code",
      "source": [
        "def p67(triangle, rows):\n",
        "    for i in range(rows-2, -1, -1):\n",
        "        for j in range(i+1):\n",
        "            triangle[i][j] += max(triangle[i+1][j], triangle[i+1][j+1])\n",
        "\n",
        "    # print(triangle)\n",
        "    print(triangle[0][0])\n",
        "\n",
        "\n",
        "\n",
        "t = int(input())\n",
        "for _ in range(t):\n",
        "    rows = int(input())\n",
        "    triangle = []\n",
        "    for _ in range(rows):\n",
        "        triangle.append([int(x) for x in input().split()])\n",
        "    p67(triangle, rows)"
      ],
      "metadata": {
        "id": "rIqFuYwkw78S"
      },
      "id": "rIqFuYwkw78S",
      "execution_count": null,
      "outputs": []
    },
    {
      "cell_type": "markdown",
      "source": [
        "#Date: 1/3/2023\n",
        "\n",
        "### Project Euler 62: Cubic Permutations\n",
        "\n",
        "---\n",
        "\n",
        "I was stuck for so long to figure out how to fix the key error. I just forgot about try except blocks. Moroever, there is something called as defaultdicts, there is so much in the standard python modules. It is O(n)"
      ],
      "metadata": {
        "id": "_wmgc76-EknW"
      },
      "id": "_wmgc76-EknW"
    },
    {
      "cell_type": "code",
      "source": [
        "def p62(n, k):\n",
        "    perm_dict = {}\n",
        "\n",
        "    for i in range(1, n+1):\n",
        "        cube_perm = sorted(str(i*i*i))\n",
        "        cube_perm = \"\".join(cube_perm)\n",
        "\n",
        "        try:\n",
        "            perm_dict[cube_perm].append(i)\n",
        "        except:\n",
        "            perm_dict[cube_perm] = [i]\n",
        "\n",
        "    for perm in perm_dict:\n",
        "        if len(perm_dict[perm]) == k:\n",
        "            print(perm_dict[perm][0]**3)\n"
      ],
      "metadata": {
        "id": "f946qmH9EkyF"
      },
      "id": "f946qmH9EkyF",
      "execution_count": null,
      "outputs": []
    },
    {
      "cell_type": "markdown",
      "source": [
        "#Date: 1/3/2023\n",
        "\n",
        "### Project Euler 63: Powerful Digit Counts\n",
        "\n",
        "---\n",
        "\n",
        "This was one of the easier ones. I was expectingmy first method to time-out but it ran pretty smoothly."
      ],
      "metadata": {
        "id": "ix7ZFLgIeZZ7"
      },
      "id": "ix7ZFLgIeZZ7"
    },
    {
      "cell_type": "code",
      "source": [
        "def p63(n):\n",
        "    i = 2\n",
        "    while True:\n",
        "        if len(str(i**n)) > n:\n",
        "            break\n",
        "\n",
        "        if len(str(i**n)) == n:\n",
        "            print(i**n)\n",
        "\n",
        "        i += 1"
      ],
      "metadata": {
        "id": "BPoOJ4SBeZko"
      },
      "id": "BPoOJ4SBeZko",
      "execution_count": null,
      "outputs": []
    },
    {
      "cell_type": "markdown",
      "source": [
        "#Date: 6/3/2023\n",
        "\n",
        "### Project Euler 74: Digit Factorial Chains\n",
        "\n",
        "---\n",
        "\n",
        "The first iterationis naive, where each test case is solved individually. There is no optimisations.\n",
        "\n",
        "---\n",
        "\n",
        "The second iteration uses tabulation to generate only the table uptil the maximum input. This also timed out; one way to solve this could be keeping a track of all thchain steps, so as to not recalculate anything.\n",
        "\n",
        "---\n",
        "\n",
        "_will come back to this_"
      ],
      "metadata": {
        "id": "zRnLus9KdOTy"
      },
      "id": "zRnLus9KdOTy"
    },
    {
      "cell_type": "code",
      "source": [
        "from math import factorial\n",
        "\n",
        "\n",
        "def chain_length(i):\n",
        "    n = i\n",
        "    chain = []\n",
        "    while True:\n",
        "        i = str(i)\n",
        "        Sum = 0\n",
        "        for d in i:\n",
        "            Sum += factorial(int(d))\n",
        "\n",
        "        if Sum in chain or Sum == n:\n",
        "            break\n",
        "\n",
        "        chain.append(Sum)\n",
        "        i = Sum\n",
        "\n",
        "    return len(chain) + 1\n",
        "\n",
        "\n",
        "def p74(n, l):\n",
        "    result = []\n",
        "    for i in range(n+1):\n",
        "        if chain_length(i) == l:\n",
        "            result.append(i)\n",
        "\n",
        "    if len(result):\n",
        "        print(*result, \" \")\n",
        "    else:\n",
        "        print(-1)\n",
        "\n",
        "\n",
        "\n",
        "t = int(input())\n",
        "for _ in range(t):\n",
        "    n , l = [int(x) for x in input().split()]\n",
        "    p74(n, l)\n"
      ],
      "metadata": {
        "id": "rTuGtIXwdOcz"
      },
      "id": "rTuGtIXwdOcz",
      "execution_count": null,
      "outputs": []
    },
    {
      "cell_type": "code",
      "source": [
        "from math import factorial\n",
        "from collections import defaultdict\n",
        "\n",
        "t = int(input())\n",
        "n_input = []\n",
        "l_input = []\n",
        "for _ in range(t):\n",
        "    n , l = [int(x) for x in input().split()]\n",
        "    n_input.append(n)\n",
        "    l_input.append(l)\n",
        "\n",
        "N = max(n_input)\n",
        "\n",
        "\n",
        "def chain_length(i):\n",
        "    n = i\n",
        "    chain = []\n",
        "    while True:\n",
        "        i = str(i)\n",
        "        Sum = 0\n",
        "        for d in i:\n",
        "            Sum += factorial(int(d))\n",
        "\n",
        "        if Sum in chain or Sum == n:\n",
        "            break\n",
        "\n",
        "        chain.append(Sum)\n",
        "        i = Sum\n",
        "\n",
        "    return len(chain) + 1\n",
        "\n",
        "\n",
        "\n",
        "RESULT = defaultdict(lambda: [])\n",
        "for i in range(N+1):\n",
        "    RESULT[chain_length(i)].append(i)\n",
        "\n",
        "\n",
        "\n",
        "\n",
        "def p74a(n, l):\n",
        "    ans = [x for x in RESULT[l] if x <= n]\n",
        "\n",
        "    if len(ans):\n",
        "        print(*ans, \" \")\n",
        "    else:\n",
        "        print(-1)\n",
        "\n",
        "\n",
        "\n",
        "for i in range(t):\n",
        "    p74(n_input[i], l_input[i])"
      ],
      "metadata": {
        "id": "VfCi-s1NeRZl"
      },
      "id": "VfCi-s1NeRZl",
      "execution_count": null,
      "outputs": []
    },
    {
      "cell_type": "markdown",
      "source": [
        "Problem 75 is the same as problem 39  \n",
        "Problem 86 is similar too   \n",
        "Solve any one of them"
      ],
      "metadata": {
        "id": "j76s6xrVUPok"
      },
      "id": "j76s6xrVUPok"
    },
    {
      "cell_type": "code",
      "source": [],
      "metadata": {
        "id": "Nw_BD0mLUPw6"
      },
      "id": "Nw_BD0mLUPw6",
      "execution_count": null,
      "outputs": []
    },
    {
      "cell_type": "markdown",
      "source": [
        "#Date: 8/3/2023\n",
        "\n",
        "### Project Euler 76: Counting Summations\n",
        "\n",
        "---\n",
        "\n",
        "Copy pasted the code I had written for problem 31. I am not entirely sure why I had to do a -1 in the final answer, but hey, it worked."
      ],
      "metadata": {
        "id": "VdoDZHZwUXMk"
      },
      "id": "VdoDZHZwUXMk"
    },
    {
      "cell_type": "code",
      "source": [
        "integers = [x+1 for x in range(1000)]\n",
        "ways = [1] + [0]*1000\n",
        "\n",
        "for num in integers:\n",
        "    for i in range(num, 1001):\n",
        "        ways[i] += ways[i - num]\n",
        "\n",
        "\n",
        "t = int(input())\n",
        "for _ in range(t):\n",
        "    n = int(input())\n",
        "    print((ways[n] - 1) % (10**9 + 7))"
      ],
      "metadata": {
        "id": "fD5IBvvwWahk"
      },
      "id": "fD5IBvvwWahk",
      "execution_count": null,
      "outputs": []
    },
    {
      "cell_type": "markdown",
      "source": [
        "#Date: 8/3/2023\n",
        "\n",
        "### Project Euler 77: Prime Summations\n",
        "\n",
        "---\n",
        "\n",
        "Another problem for the same family as the previous one.  \n",
        "I did figure out why I had to do a (-1) for the previous problem. I believe one of the ways being counted was (num + 0) which is not legal in the problem statement.\n",
        "\n",
        "---\n",
        "\n",
        "Figured out why we need -1 by doing the problem below"
      ],
      "metadata": {
        "id": "XobNnIuXWd3j"
      },
      "id": "XobNnIuXWd3j"
    },
    {
      "cell_type": "code",
      "source": [
        "def primes(n):\n",
        "    Primes = [True] * (n + 1)\n",
        "\n",
        "    Primes[0] = Primes[1] = False\n",
        "\n",
        "    for i in range(2, int(n**(0.5))+1):\n",
        "        if Primes[i]:\n",
        "            for j in range(i*i, n+1, i):\n",
        "                Primes[j] = False\n",
        "\n",
        "    return [x for x in range(n+1) if Primes[x]]\n",
        "\n",
        "PRIMES = primes(1000)\n",
        "ways = [1] + [0]*1000\n",
        "\n",
        "for num in PRIMES:\n",
        "    for i in range(num, 1001):\n",
        "        ways[i] += ways[i - num]\n",
        "\n",
        "\n",
        "t = int(input())\n",
        "for _ in range(t):\n",
        "    n = int(input())\n",
        "    print(ways[n])"
      ],
      "metadata": {
        "id": "5MQ3dZEDWeAi"
      },
      "id": "5MQ3dZEDWeAi",
      "execution_count": null,
      "outputs": []
    },
    {
      "cell_type": "markdown",
      "source": [
        "#Date: 8/3/2023\n",
        "\n",
        "### Project Euler 78: Coin Partitions\n",
        "\n",
        "---\n",
        "\n",
        "THe first iteration did not work, used the same code from above but removed the (-1) because one singular pile can be built. This algorithm is $O(n^2)$, will need to research a new algorithm, optimisations on this won't work.\n",
        "\n",
        "\n",
        "---\n",
        "\n",
        "Got the algorithm using this [link](https://www.wikiwand.com/en/Partition_(number_theory)) and the euler's pentagonal formula. The time complexity for this is $O(n^{1.5})$\n",
        "\n"
      ],
      "metadata": {
        "id": "lA0lWEaYZqbM"
      },
      "id": "lA0lWEaYZqbM"
    },
    {
      "cell_type": "code",
      "source": [
        "integers = [x+1 for x in range(1000)]\n",
        "ways = [1] + [0]*1000\n",
        "\n",
        "for num in integers:\n",
        "    for i in range(num, 1001):\n",
        "        ways[i] += ways[i - num]\n",
        "\n",
        "\n",
        "t = int(input())\n",
        "for _ in range(t):\n",
        "    n = int(input())\n",
        "    print((ways[n] - 1) % (10**9 + 7))"
      ],
      "metadata": {
        "id": "WIWNRkYpZr2o"
      },
      "id": "WIWNRkYpZr2o",
      "execution_count": null,
      "outputs": []
    },
    {
      "cell_type": "code",
      "source": [
        "p = [1]\n",
        "n = 60000\n",
        "\n",
        "for i in range(1, n+1):\n",
        "    Sum = 0\n",
        "    k = 1\n",
        "\n",
        "    while True:\n",
        "        f = i - k * (3 * k - 1) // 2\n",
        "        if f < 0:\n",
        "            break\n",
        "\n",
        "        if k % 2:\n",
        "            Sum += p[f]\n",
        "        else:\n",
        "            Sum -= p[f]\n",
        "\n",
        "        f = i - k * (3 * k + 1) // 2\n",
        "        if f < 0:\n",
        "            break\n",
        "\n",
        "        if k % 2:\n",
        "            Sum += p[f]\n",
        "        else:\n",
        "            Sum -= p[f]\n",
        "\n",
        "        k += 1\n",
        "\n",
        "    p.append(Sum)\n",
        "\n",
        "\n",
        "def p78a(n):\n",
        "    print(p[n] % (10**9 + 7))\n",
        "\n",
        "for _ in range(int(input())):\n",
        "    p78a(int(input()))"
      ],
      "metadata": {
        "id": "U9cUyEbfu198"
      },
      "id": "U9cUyEbfu198",
      "execution_count": null,
      "outputs": []
    },
    {
      "cell_type": "markdown",
      "source": [
        "#Date: 9/3/2023\n",
        "\n",
        "### Project Euler 69: Totient Maximum\n",
        "\n",
        "---\n",
        "\n",
        "The previous two iterations have a very high time complexity $O(n)$, while the algorithm below uses prime numbers and dynamic programming to bring the time complexity down by orders of magnitude.\n",
        "\n",
        "---\n",
        "This one I take no credit for. One kind person outlined the algorithm in the discussions, here is the [link](https://www.google.com/url?q=https://raw.githubusercontent.com/leduckhai/Awesome-Competitive-Programming/main/Data%2520Bank/Hackerrank%2520Project%2520Euler%252069%2520Solution.jpg&sa=D&source=editors&ust=1678886209652980&usg=AOvVaw3sdxEca8jRLnQxF9ade63r).  \n",
        "I am not entirely sure how this is working, but we can have one freebie.  \n",
        "It uses the fact that primes phi(n) of prime numbers are n-1, beacuse every number is relatively prime to it.\n"
      ],
      "metadata": {
        "id": "3ZA7ZctNaIui"
      },
      "id": "3ZA7ZctNaIui"
    },
    {
      "cell_type": "code",
      "source": [
        "from math import gcd\n",
        "\n",
        "def phi(n):\n",
        "    result = 1\n",
        "    for i in range(2, n):\n",
        "        if (gcd(i, n) == 1):\n",
        "            result += 1\n",
        "\n",
        "    return result\n",
        "\n",
        "def p69(n):\n",
        "\n",
        "    Max = 0\n",
        "    num = 0\n",
        "    for i in range(2, n):\n",
        "        totient = phi(i)\n",
        "        if i/totient > Max:\n",
        "            # print(totient)\n",
        "            Max = i/totient\n",
        "            num = i\n",
        "\n",
        "    print(num)\n",
        "\n",
        "for _ in range(int(input())):\n",
        "    p69(int(input()))\n"
      ],
      "metadata": {
        "id": "DW2dNdKZvCFQ"
      },
      "id": "DW2dNdKZvCFQ",
      "execution_count": null,
      "outputs": []
    },
    {
      "cell_type": "code",
      "source": [
        "from math import gcd\n",
        "\n",
        "def phi_a(n):\n",
        "\n",
        "    result = n\n",
        "    p = 2\n",
        "    while p*p <= n :\n",
        "\n",
        "        if n % p == 0 :\n",
        "\n",
        "            while n % p == 0 :\n",
        "                n = n // p\n",
        "            result = result * (1.0 - (1.0 / float(p)))\n",
        "        p = p + 1\n",
        "\n",
        "    if n > 1 :\n",
        "        result -= result // n\n",
        "\n",
        "    return int(result)\n",
        "\n",
        "def p69(n):\n",
        "\n",
        "    Max = 0\n",
        "    num = 0\n",
        "    for i in range(2, n):\n",
        "        totient = phi_a(i)\n",
        "        if i/totient > Max:\n",
        "            # print(totient)\n",
        "            Max = i/totient\n",
        "            num = i\n",
        "\n",
        "    print(num)\n",
        "\n",
        "for _ in range(int(input())):\n",
        "    p69(int(input()))\n"
      ],
      "metadata": {
        "id": "UBFdIGAaT88d"
      },
      "id": "UBFdIGAaT88d",
      "execution_count": null,
      "outputs": []
    },
    {
      "cell_type": "code",
      "source": [
        "def primes(n):\n",
        "    Primes = [True] * (n + 1)\n",
        "\n",
        "    Primes[0] = Primes[1] = False\n",
        "\n",
        "    for i in range(2, int(n**(0.5))+1):\n",
        "        if Primes[i]:\n",
        "            for j in range(i*i, n+1, i):\n",
        "                Primes[j] = False\n",
        "\n",
        "    return [x for x in range(n+1) if Primes[x]]\n",
        "\n",
        "PRIMES = primes(100)\n",
        "\n",
        "def p69(N):\n",
        "    ratio = 1\n",
        "    n = 1\n",
        "\n",
        "    for prime in PRIMES:\n",
        "        if n*prime >= N:\n",
        "            return n\n",
        "        else:\n",
        "            n *= prime\n",
        "\n",
        "\n",
        "for _ in range(int(input())):\n",
        "    print(p69(int(input())))\n"
      ],
      "metadata": {
        "id": "W2qZQJTbUIQx"
      },
      "id": "W2qZQJTbUIQx",
      "execution_count": null,
      "outputs": []
    },
    {
      "cell_type": "markdown",
      "source": [
        "#Date: 10/3/2023\n",
        "\n",
        "### Project Euler 49: Prime Permutations\n",
        "\n",
        "---\n",
        "\n",
        "This one is so close, I don't know how to optimise it further. I threw every single trick I learnt on the first try itself and this timed out for the last case.\n",
        "\n",
        "---\n",
        "_will come back to this_"
      ],
      "metadata": {
        "id": "0v5LlQ8WvB5d"
      },
      "id": "0v5LlQ8WvB5d"
    },
    {
      "cell_type": "code",
      "source": [
        "from itertools import combinations\n",
        "from collections import defaultdict\n",
        "\n",
        "def primes(n):\n",
        "    Primes = [True] * (n + 1)\n",
        "\n",
        "    Primes[0] = Primes[1] = False\n",
        "\n",
        "    for i in range(2, int(n**(0.5))+1):\n",
        "        if Primes[i]:\n",
        "            for j in range(i*i, n+1, i):\n",
        "                Primes[j] = False\n",
        "\n",
        "    return [x for x in range(n+1) if Primes[x]]\n",
        "\n",
        "\n",
        "def p49(n, k):\n",
        "    PRIMES = primes(10**len(str(n)))\n",
        "    anagrams = defaultdict(lambda: [])\n",
        "\n",
        "    for prime in PRIMES:\n",
        "        anagrams[str(sorted(str(prime)))].append(prime)\n",
        "\n",
        "    ans = []\n",
        "\n",
        "    for value in anagrams.values():\n",
        "\n",
        "        if value[0] >= n:\n",
        "            break\n",
        "\n",
        "        length = len(value)\n",
        "        if length >= k:\n",
        "\n",
        "            for combi in combinations(value, k):\n",
        "\n",
        "                if combi[0] >= n:\n",
        "                    break\n",
        "\n",
        "                d = combi[1] - combi[0]\n",
        "                if d == combi[2] - combi[1]:\n",
        "                    if k == 3:\n",
        "                        ans.append(\"\".join(map(str, combi)))\n",
        "                    elif d == combi[3] - combi[2]:\n",
        "                        ans.append(\"\".join(map(str, combi)))\n",
        "\n",
        "\n",
        "    for a in sorted(ans, key=lambda x: (len(x), x)):\n",
        "        print(a)\n",
        "\n",
        "# p49(700000, 4)\n",
        "n, k = [int(x) for x in input().split()]\n",
        "p49(n, k)\n"
      ],
      "metadata": {
        "id": "MvLOhZz9aI2B"
      },
      "id": "MvLOhZz9aI2B",
      "execution_count": null,
      "outputs": []
    },
    {
      "cell_type": "markdown",
      "source": [
        "#Date: 11/3/2023\n",
        "\n",
        "### Project Euler 98: Anagramic Squares\n",
        "\n",
        "---\n",
        "\n",
        "Finally, a somewhat easier one. Feels like you can throw a dictionary into anything and it will make it much more optimised."
      ],
      "metadata": {
        "id": "raNUdigiVXaZ"
      },
      "id": "raNUdigiVXaZ"
    },
    {
      "cell_type": "code",
      "source": [
        "from collections import defaultdict\n",
        "\n",
        "def p98(n):\n",
        "    anagrams = defaultdict(lambda: [])\n",
        "\n",
        "    for i in range(int(10**((n-1)/2)), int(10**(n/2)) + 1):\n",
        "        anagrams[str(sorted(str(i*i)))].append(i*i)\n",
        "\n",
        "    Max = 0\n",
        "    Len = 0\n",
        "\n",
        "    # print(anagrams)\n",
        "\n",
        "    for value in anagrams.values():\n",
        "        length = len(value)\n",
        "        if length < 2 or length < Len:\n",
        "            continue\n",
        "\n",
        "        if length > Len:\n",
        "            Len = length\n",
        "            Max = max(value)\n",
        "        else:\n",
        "            Max = max(value) if max(value) > Max else Max\n",
        "\n",
        "\n",
        "    print(Max)\n",
        "\n",
        "\n",
        "p98(int(input()))\n"
      ],
      "metadata": {
        "id": "nZ717tl3VX9m"
      },
      "id": "nZ717tl3VX9m",
      "execution_count": null,
      "outputs": []
    },
    {
      "cell_type": "markdown",
      "source": [
        "#Date: 15/3/2023\n",
        "\n",
        "### Project Euler 89: Roman Numerals\n",
        "\n",
        "---\n",
        "\n",
        "This one I was just dreading to code, until I realised that the input will always have the roman numerals be descending and not somrhing whack with the subtraction thingy, then it was just a ride in the park."
      ],
      "metadata": {
        "id": "uXKSlxVjNIZg"
      },
      "id": "uXKSlxVjNIZg"
    },
    {
      "cell_type": "code",
      "source": [
        "IntRoman = {\n",
        "            0: \"\",\n",
        "            1: \"I\",\n",
        "            4: \"IV\",\n",
        "            5: \"V\",\n",
        "            10: \"X\",\n",
        "            50: \"L\",\n",
        "            100: \"C\",\n",
        "            500: \"D\",\n",
        "            1000: \"M\"\n",
        "        }\n",
        "RomanInt = {v:k for k, v in IntRoman.items()}\n",
        "\n",
        "def DescRomanInt(badRoman):\n",
        "    value = 0\n",
        "    for l in badRoman:\n",
        "        value += RomanInt[l]\n",
        "    return value\n",
        "\n",
        "\n",
        "\n",
        "\n",
        "def ValRoman(value):\n",
        "    roman = \"\"\n",
        "\n",
        "    for _ in range(value//1000):\n",
        "        roman += \"M\"\n",
        "\n",
        "    value %= 1000\n",
        "\n",
        "    def buildRoman(div):\n",
        "        nonlocal value, roman\n",
        "\n",
        "        if value >= 9*div:\n",
        "            roman += IntRoman[div] + IntRoman[div*10]\n",
        "            value -= 9*div\n",
        "\n",
        "        elif value >= 5*div:\n",
        "            roman += IntRoman[5*div]\n",
        "            value -= 5*div\n",
        "\n",
        "            for _ in range(value // (1*div)):\n",
        "                roman += IntRoman[div]\n",
        "            value %= 1*div\n",
        "\n",
        "        elif value >= 4*div:\n",
        "            roman += IntRoman[div] + IntRoman[div*5]\n",
        "            value -= 4*div\n",
        "\n",
        "        else:\n",
        "            for _ in range(value // (1*div)):\n",
        "                roman += IntRoman[div]\n",
        "            value %= 1*div\n",
        "\n",
        "    div = 100\n",
        "    while div >= 1:\n",
        "        buildRoman(div)\n",
        "        # print(div, value)\n",
        "        div //= 10\n",
        "\n",
        "    print(roman)\n",
        "\n",
        "# ValRoman(3892)\n",
        "\n",
        "def p89(badRoman):\n",
        "    ValRoman(DescRomanInt(badRoman))\n",
        "\n",
        "for _ in range(int(input())):\n",
        "    p89(input())\n"
      ],
      "metadata": {
        "id": "GM7kXnuiNKNM"
      },
      "id": "GM7kXnuiNKNM",
      "execution_count": null,
      "outputs": []
    },
    {
      "cell_type": "markdown",
      "source": [
        "#Date: 15/3/2023\n",
        "\n",
        "### Project Euler 81: Path Sums: two ways\n",
        "\n",
        "---\n",
        "\n",
        "I dont know why it took me so many tries to get it right, probably just had to try another day for that to work. Well, this was much nicer than I had previously thought. This algorithm is the same as the one doen above, for the lattice path and the triangular graph."
      ],
      "metadata": {
        "id": "RRYGdt1DQMev"
      },
      "id": "RRYGdt1DQMev"
    },
    {
      "cell_type": "code",
      "source": [
        "def matrixPrint(mat, n):\n",
        "    for i in range(n):\n",
        "        print(mat[i])\n",
        "\n",
        "\n",
        "def p81(mat):\n",
        "\n",
        "  n = len(mat) - 1;\n",
        "\n",
        "  for i in range(n - 1, -1, -1):\n",
        "\n",
        "    mat[n][i] += mat[n][i + 1];\n",
        "    mat[i][n] += mat[i + 1][n];\n",
        "\n",
        "\n",
        "  for i in range(n - 1, -1, -1):\n",
        "    for j in range(n - 1, -1, -1):\n",
        "      mat[i][j] += min(mat[i + 1][j], mat[i][j + 1])\n",
        "\n",
        "    # matrixPrint(mat, n)\n",
        "\n",
        "  return mat[0][0];\n",
        "\n",
        "\n",
        "n = int(input())\n",
        "mat = []\n",
        "for _ in range(n):\n",
        "    mat.append([int(x) for x in input().split()])\n",
        "print(p81(mat))\n"
      ],
      "metadata": {
        "id": "7tLgAwH-XYRT"
      },
      "id": "7tLgAwH-XYRT",
      "execution_count": null,
      "outputs": []
    },
    {
      "cell_type": "markdown",
      "source": [
        "#Date: 25/3/2023\n",
        "\n",
        "### Project Euler 79: Passcode Derivation\n",
        "\n",
        "---\n",
        "\n",
        "This uses a dictionary to keep track of all the characters that were present before a given character. My first thought was to use this to chuck all the possible combinations one could make given all the characters in the tries. This method would have taken ages, in the worst case as there would be an exponential number of combinations for bigger passwords (and just as many checks), also some cases are the worst case scenario where we would have to go through all the test cases.\n",
        "\n",
        "The current algorithm still uses the idea of saving which digits are present previously and expolits the fact that we have to give the lexicographically lowest answer. This allows us to take the character with no preceding letters and add it to the password iteratively while updating the dictionary, in case of a clash, we use the lexicographic rule.\n",
        "\n",
        "This is much faster as it has a time complexity more akin to being linear (length of password) than factorial."
      ],
      "metadata": {
        "id": "n6ooZtWemW19"
      },
      "id": "n6ooZtWemW19"
    },
    {
      "cell_type": "code",
      "source": [
        "tries = [None] * int(input())\n",
        "for i in range(len(tries)):\n",
        "    tries[i] = input()\n",
        "\n",
        "\n",
        "\n",
        "from collections import defaultdict\n",
        "\n",
        "previous = defaultdict(lambda: set())\n",
        "\n",
        "for pwd in tries:\n",
        "    for i in range(len(pwd)):\n",
        "        if i == 0:\n",
        "            previous[pwd[i]]\n",
        "            continue\n",
        "\n",
        "        previous[pwd[i]].add(pwd[i-1])\n",
        "\n",
        "\n",
        "\n",
        "def find_empty():\n",
        "    empty = []\n",
        "    for key in previous:\n",
        "        if len(previous[key]):\n",
        "            continue\n",
        "        empty.append(key)\n",
        "\n",
        "    empty.sort()\n",
        "    return empty\n",
        "\n",
        "def update_previous(char):\n",
        "    del previous[char]\n",
        "    for key in previous:\n",
        "        try:\n",
        "            previous[key].remove(char)\n",
        "        except:\n",
        "            continue\n",
        "\n",
        "\n",
        "def p79():\n",
        "    possible_pwd = \"\"\n",
        "    while True:\n",
        "        updated = find_empty()\n",
        "\n",
        "        if len(updated) == 0:\n",
        "            print(\"SMTH WRONG\")\n",
        "            return\n",
        "\n",
        "        char = updated[0]\n",
        "        possible_pwd += char\n",
        "\n",
        "        update_previous(char)\n",
        "\n",
        "        if len(previous) == 0:\n",
        "            print(possible_pwd)\n",
        "            return\n",
        "\n",
        "\n",
        "p79()"
      ],
      "metadata": {
        "id": "t63OZqlCmXSt"
      },
      "id": "t63OZqlCmXSt",
      "execution_count": null,
      "outputs": []
    },
    {
      "cell_type": "markdown",
      "source": [
        "#Date: 25/3/2023\n",
        "\n",
        "### Project Euler 99: Largest Exponential\n",
        "\n",
        "---\n",
        "\n",
        "I can't believe I didn't do this earlier.  \n",
        "The first iteration uses for loop and appending and takes the naïve approach of just calculating the exponent and storing them.\n",
        "\n",
        "The next iteration uses the same algorithm with just pythonic micro-optimisations which clearly goes no where.\n",
        "\n",
        "---\n",
        "The last iteration uses the fact that  \n",
        "$ a^x > b^y \\implies x * log(a) > y * log(b)$  \n",
        "This is useful as multiplication calculations take linear time while exponentian takes quadratic time. There is overhead for log calculations but it is miniscule compared to exponentiation."
      ],
      "metadata": {
        "id": "MrkJA2KX6_Op"
      },
      "id": "MrkJA2KX6_Op"
    },
    {
      "cell_type": "code",
      "source": [
        "inputs = [None] * int(input())\n",
        "for i in range(len(inputs)):\n",
        "    b, e = [int(x) for x in input().split()]\n",
        "    inputs[i] = (b, e)\n",
        "\n",
        "k = int(input())\n",
        "\n",
        "\n",
        "def p99(inputs, k):\n",
        "    ans = []\n",
        "\n",
        "    for pair in inputs:\n",
        "        ans.append((pair, pow(pair[0], pair[1])))\n",
        "\n",
        "    print(*sorted(ans, key=lambda x: x[1])[k-1][0], sep=\" \")\n",
        "\n",
        "#############-------------------------#######################\n",
        "\n",
        "  def p99_(inputs, k):\n",
        "    print(*sorted(inputs, key=lambda x: pow(x[0], x[1]))[k-1], sep=\" \")"
      ],
      "metadata": {
        "id": "-eq0zJrM7AZ2"
      },
      "id": "-eq0zJrM7AZ2",
      "execution_count": null,
      "outputs": []
    },
    {
      "cell_type": "code",
      "source": [
        "from math import log\n",
        "\n",
        "def p99a(inputs, k):\n",
        "    print(*sorted(inputs, key=lambda x: x[1]*log(x[0]))[k-1], sep=\" \")"
      ],
      "metadata": {
        "id": "bQ_5pnY_M5ap"
      },
      "id": "bQ_5pnY_M5ap",
      "execution_count": null,
      "outputs": []
    },
    {
      "cell_type": "markdown",
      "source": [
        "#Date: 25/3/2023\n",
        "\n",
        "### Project Euler 96: Su Doku\n",
        "\n",
        "---\n",
        "\n",
        "This problem caught my eye because love playing sudoku in free time, thought would be easy to code this.\n",
        "\n",
        "---\n",
        "The first iteration of my answer just did it naïvely, check the number of available digits that can be present in the empty position based on sudoku constraints; and then just fill in the first available digit and call it a day.\n",
        "\n",
        "\n",
        "This works if there is only one possible answer. Due to quite a few positions having multiple options when going through it, we just try out all the options and call the function recursively, if that try doesn't seem to work out at any given point in time, exit the recursion and try new try.\n",
        "\n",
        "---\n",
        "\n",
        "OHHHHH! That is just DFS, buut like, ohhhh.\n",
        "\n",
        "---\n",
        "Could optimise it quite a bit more by replacing the try, except blocks to something nicer; maybe a set."
      ],
      "metadata": {
        "id": "5LoAm1bzEuL3"
      },
      "id": "5LoAm1bzEuL3"
    },
    {
      "cell_type": "code",
      "source": [
        "grid = [[]] * 9\n",
        "for i in range(9):\n",
        "    grid[i] = [int(x) for x in input()]\n",
        "\n",
        "\n",
        "def p96():\n",
        "    for x in range(9):\n",
        "        for y in range(9):\n",
        "\n",
        "            if grid[x][y] == 0:\n",
        "                available = list(range(1, 10))\n",
        "\n",
        "                for i in range(9):\n",
        "                    try:\n",
        "                        available.remove(grid[i][y])\n",
        "                    except:\n",
        "                        continue\n",
        "\n",
        "                for j in range(9):\n",
        "                    try:\n",
        "                        available.remove(grid[x][j])\n",
        "                    except:\n",
        "                        continue\n",
        "\n",
        "                box_x = ((x//3) * 3)\n",
        "                box_y = ((y//3) * 3)\n",
        "                for i in range(3):\n",
        "                    for j in range(3):\n",
        "                        try:\n",
        "                            available.remove(grid[i+box_x][j+box_y])\n",
        "                        except:\n",
        "                            continue\n",
        "\n",
        "                grid[x][y] = available[0]\n",
        "\n",
        "p96()\n",
        "for row in grid:\n",
        "    print(*row, sep=\"\")"
      ],
      "metadata": {
        "id": "OUkgpdJlEw1Y"
      },
      "id": "OUkgpdJlEw1Y",
      "execution_count": null,
      "outputs": []
    },
    {
      "cell_type": "code",
      "source": [
        "grid = [[]] * 9\n",
        "for i in range(9):\n",
        "    grid[i] = [int(x) for x in input()]\n",
        "\n",
        "\n",
        "def p96():\n",
        "    for x in range(9):\n",
        "        for y in range(9):\n",
        "\n",
        "            if grid[x][y] == 0:\n",
        "                available = list(range(1, 10))\n",
        "\n",
        "                for i in range(9):\n",
        "                    try:\n",
        "                        available.remove(grid[i][y])\n",
        "                    except:\n",
        "                        continue\n",
        "\n",
        "                for j in range(9):\n",
        "                    try:\n",
        "                        available.remove(grid[x][j])\n",
        "                    except:\n",
        "                        continue\n",
        "\n",
        "                box_x = ((x//3) * 3)\n",
        "                box_y = ((y//3) * 3)\n",
        "                for i in range(3):\n",
        "                    for j in range(3):\n",
        "                        try:\n",
        "                            available.remove(grid[i+box_x][j+box_y])\n",
        "                        except:\n",
        "                            continue\n",
        "\n",
        "                for possible in available:\n",
        "                    grid[x][y] = possible\n",
        "                    if p96():\n",
        "                        return True\n",
        "\n",
        "                grid[x][y] = 0\n",
        "                return False\n",
        "    return True\n",
        "\n",
        "\n",
        "p96()\n",
        "\n",
        "for row in grid:\n",
        "    print(*row, sep=\"\")"
      ],
      "metadata": {
        "id": "n7eY7XiAIlli"
      },
      "id": "n7eY7XiAIlli",
      "execution_count": null,
      "outputs": []
    },
    {
      "cell_type": "markdown",
      "source": [],
      "metadata": {
        "id": "6DNlXjT-IhAw"
      },
      "id": "6DNlXjT-IhAw"
    },
    {
      "cell_type": "code",
      "source": [],
      "metadata": {
        "id": "53O6lfycIhxM"
      },
      "id": "53O6lfycIhxM",
      "execution_count": null,
      "outputs": []
    }
  ],
  "metadata": {
    "kernelspec": {
      "display_name": "Python 3",
      "language": "python",
      "name": "python3"
    },
    "language_info": {
      "codemirror_mode": {
        "name": "ipython",
        "version": 3
      },
      "file_extension": ".py",
      "mimetype": "text/x-python",
      "name": "python",
      "nbconvert_exporter": "python",
      "pygments_lexer": "ipython3",
      "version": "3.8.8"
    },
    "colab": {
      "provenance": []
    }
  },
  "nbformat": 4,
  "nbformat_minor": 5
}